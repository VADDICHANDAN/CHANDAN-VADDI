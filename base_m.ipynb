{
  "cells": [
    {
      "cell_type": "markdown",
      "metadata": {
        "id": "view-in-github",
        "colab_type": "text"
      },
      "source": [
        "<a href=\"https://colab.research.google.com/github/VADDICHANDAN/CHANDAN-VADDI/blob/master/base_m.ipynb\" target=\"_parent\"><img src=\"https://colab.research.google.com/assets/colab-badge.svg\" alt=\"Open In Colab\"/></a>"
      ]
    },
    {
      "cell_type": "code",
      "execution_count": null,
      "id": "23f3bcac",
      "metadata": {
        "id": "23f3bcac"
      },
      "outputs": [],
      "source": [
        "import numpy as np\n",
        "import pandas as pd\n",
        "import warnings\n",
        "warnings.filterwarnings('ignore')"
      ]
    },
    {
      "cell_type": "code",
      "source": [
        "from google.colab import drive\n",
        "drive.mount('/content/drive')"
      ],
      "metadata": {
        "colab": {
          "base_uri": "https://localhost:8080/"
        },
        "id": "KRszun11TkJi",
        "outputId": "94de43af-0a20-4bb2-9b38-5f9d05a385d3"
      },
      "id": "KRszun11TkJi",
      "execution_count": 7,
      "outputs": [
        {
          "output_type": "stream",
          "name": "stdout",
          "text": [
            "Drive already mounted at /content/drive; to attempt to forcibly remount, call drive.mount(\"/content/drive\", force_remount=True).\n"
          ]
        }
      ]
    },
    {
      "cell_type": "code",
      "execution_count": 9,
      "id": "e4cd3524",
      "metadata": {
        "colab": {
          "base_uri": "https://localhost:8080/",
          "height": 834
        },
        "id": "e4cd3524",
        "outputId": "bd65a61a-9519-45cc-a766-10c6f6bf7b20"
      },
      "outputs": [
        {
          "output_type": "execute_result",
          "data": {
            "text/plain": [
              "             ID Customer_ID      Month            Name   Age          SSN  \\\n",
              "0        0x1602   CUS_0xd40    January   Aaron Maashoh    23  821-00-0265   \n",
              "1        0x1603   CUS_0xd40   February   Aaron Maashoh    23  821-00-0265   \n",
              "2        0x1604   CUS_0xd40      March   Aaron Maashoh  -500  821-00-0265   \n",
              "3        0x1605   CUS_0xd40      April   Aaron Maashoh    23  821-00-0265   \n",
              "4        0x1606   CUS_0xd40        May   Aaron Maashoh    23  821-00-0265   \n",
              "...         ...         ...        ...             ...   ...          ...   \n",
              "149995  0x25fe5  CUS_0x8600   December  Sarah McBridec  4975  031-35-0942   \n",
              "149996  0x25fee  CUS_0x942c  September           Nicks    25  078-73-5990   \n",
              "149997  0x25fef  CUS_0x942c    October           Nicks    25  078-73-5990   \n",
              "149998  0x25ff0  CUS_0x942c   November           Nicks    25  078-73-5990   \n",
              "149999  0x25ff1  CUS_0x942c   December           Nicks    25  078-73-5990   \n",
              "\n",
              "       Occupation Annual_Income  Monthly_Inhand_Salary  Num_Bank_Accounts  \\\n",
              "0       Scientist      19114.12            1824.843333                  3   \n",
              "1       Scientist      19114.12                    NaN                  3   \n",
              "2       Scientist      19114.12                    NaN                  3   \n",
              "3       Scientist      19114.12                    NaN                  3   \n",
              "4       Scientist      19114.12            1824.843333                  3   \n",
              "...           ...           ...                    ...                ...   \n",
              "149995  Architect      20002.88            1929.906667                 10   \n",
              "149996   Mechanic      39628.99                    NaN                  4   \n",
              "149997   Mechanic      39628.99            3359.415833                  4   \n",
              "149998   Mechanic      39628.99                    NaN                  4   \n",
              "149999   Mechanic      39628.99            3359.415833                  4   \n",
              "\n",
              "        ...  Credit_Mix  Outstanding_Debt Credit_Utilization_Ratio  \\\n",
              "0       ...           _            809.98                26.822620   \n",
              "1       ...        Good            809.98                31.944960   \n",
              "2       ...        Good            809.98                28.609352   \n",
              "3       ...        Good            809.98                31.377862   \n",
              "4       ...        Good            809.98                24.797347   \n",
              "...     ...         ...               ...                      ...   \n",
              "149995  ...           _            3571.7                34.780553   \n",
              "149996  ...        Good            502.38                27.758522   \n",
              "149997  ...        Good            502.38                36.858542   \n",
              "149998  ...        Good            502.38                39.139840   \n",
              "149999  ...           _            502.38                34.108530   \n",
              "\n",
              "            Credit_History_Age  Payment_of_Min_Amount Total_EMI_per_month  \\\n",
              "0        22 Years and 1 Months                     No           49.574949   \n",
              "1                          NaN                     No           49.574949   \n",
              "2        22 Years and 3 Months                     No           49.574949   \n",
              "3        22 Years and 4 Months                     No           49.574949   \n",
              "4        22 Years and 5 Months                     No           49.574949   \n",
              "...                        ...                    ...                 ...   \n",
              "149995                     NaN                    Yes           60.964772   \n",
              "149996  31 Years and 11 Months                     NM           35.104023   \n",
              "149997   32 Years and 0 Months                     No           35.104023   \n",
              "149998   32 Years and 1 Months                     No           35.104023   \n",
              "149999   32 Years and 2 Months                     No           35.104023   \n",
              "\n",
              "       Amount_invested_monthly                 Payment_Behaviour  \\\n",
              "0            80.41529543900253   High_spent_Small_value_payments   \n",
              "1           118.28022162236736    Low_spent_Large_value_payments   \n",
              "2              81.699521264648   Low_spent_Medium_value_payments   \n",
              "3            199.4580743910713    Low_spent_Small_value_payments   \n",
              "4           41.420153086217326  High_spent_Medium_value_payments   \n",
              "...                        ...                               ...   \n",
              "149995      146.48632477751087    Low_spent_Small_value_payments   \n",
              "149996      181.44299902757518    Low_spent_Small_value_payments   \n",
              "149997               __10000__    Low_spent_Large_value_payments   \n",
              "149998       97.59857973344877   High_spent_Small_value_payments   \n",
              "149999      220.45787812168732   Low_spent_Medium_value_payments   \n",
              "\n",
              "           Monthly_Balance   TYPE  \n",
              "0       312.49408867943663  TRAIN  \n",
              "1       284.62916249607184  TRAIN  \n",
              "2        331.2098628537912  TRAIN  \n",
              "3       223.45130972736786  TRAIN  \n",
              "4       341.48923103222177  TRAIN  \n",
              "...                    ...    ...  \n",
              "149995  275.53956951573343   TEST  \n",
              "149996  409.39456169535066   TEST  \n",
              "149997   349.7263321025098   TEST  \n",
              "149998  463.23898098947717   TEST  \n",
              "149999  360.37968260123847   TEST  \n",
              "\n",
              "[150000 rows x 28 columns]"
            ],
            "text/html": [
              "\n",
              "  <div id=\"df-2b53865f-be3d-4d9d-acdd-7e04d2532f2f\">\n",
              "    <div class=\"colab-df-container\">\n",
              "      <div>\n",
              "<style scoped>\n",
              "    .dataframe tbody tr th:only-of-type {\n",
              "        vertical-align: middle;\n",
              "    }\n",
              "\n",
              "    .dataframe tbody tr th {\n",
              "        vertical-align: top;\n",
              "    }\n",
              "\n",
              "    .dataframe thead th {\n",
              "        text-align: right;\n",
              "    }\n",
              "</style>\n",
              "<table border=\"1\" class=\"dataframe\">\n",
              "  <thead>\n",
              "    <tr style=\"text-align: right;\">\n",
              "      <th></th>\n",
              "      <th>ID</th>\n",
              "      <th>Customer_ID</th>\n",
              "      <th>Month</th>\n",
              "      <th>Name</th>\n",
              "      <th>Age</th>\n",
              "      <th>SSN</th>\n",
              "      <th>Occupation</th>\n",
              "      <th>Annual_Income</th>\n",
              "      <th>Monthly_Inhand_Salary</th>\n",
              "      <th>Num_Bank_Accounts</th>\n",
              "      <th>...</th>\n",
              "      <th>Credit_Mix</th>\n",
              "      <th>Outstanding_Debt</th>\n",
              "      <th>Credit_Utilization_Ratio</th>\n",
              "      <th>Credit_History_Age</th>\n",
              "      <th>Payment_of_Min_Amount</th>\n",
              "      <th>Total_EMI_per_month</th>\n",
              "      <th>Amount_invested_monthly</th>\n",
              "      <th>Payment_Behaviour</th>\n",
              "      <th>Monthly_Balance</th>\n",
              "      <th>TYPE</th>\n",
              "    </tr>\n",
              "  </thead>\n",
              "  <tbody>\n",
              "    <tr>\n",
              "      <th>0</th>\n",
              "      <td>0x1602</td>\n",
              "      <td>CUS_0xd40</td>\n",
              "      <td>January</td>\n",
              "      <td>Aaron Maashoh</td>\n",
              "      <td>23</td>\n",
              "      <td>821-00-0265</td>\n",
              "      <td>Scientist</td>\n",
              "      <td>19114.12</td>\n",
              "      <td>1824.843333</td>\n",
              "      <td>3</td>\n",
              "      <td>...</td>\n",
              "      <td>_</td>\n",
              "      <td>809.98</td>\n",
              "      <td>26.822620</td>\n",
              "      <td>22 Years and 1 Months</td>\n",
              "      <td>No</td>\n",
              "      <td>49.574949</td>\n",
              "      <td>80.41529543900253</td>\n",
              "      <td>High_spent_Small_value_payments</td>\n",
              "      <td>312.49408867943663</td>\n",
              "      <td>TRAIN</td>\n",
              "    </tr>\n",
              "    <tr>\n",
              "      <th>1</th>\n",
              "      <td>0x1603</td>\n",
              "      <td>CUS_0xd40</td>\n",
              "      <td>February</td>\n",
              "      <td>Aaron Maashoh</td>\n",
              "      <td>23</td>\n",
              "      <td>821-00-0265</td>\n",
              "      <td>Scientist</td>\n",
              "      <td>19114.12</td>\n",
              "      <td>NaN</td>\n",
              "      <td>3</td>\n",
              "      <td>...</td>\n",
              "      <td>Good</td>\n",
              "      <td>809.98</td>\n",
              "      <td>31.944960</td>\n",
              "      <td>NaN</td>\n",
              "      <td>No</td>\n",
              "      <td>49.574949</td>\n",
              "      <td>118.28022162236736</td>\n",
              "      <td>Low_spent_Large_value_payments</td>\n",
              "      <td>284.62916249607184</td>\n",
              "      <td>TRAIN</td>\n",
              "    </tr>\n",
              "    <tr>\n",
              "      <th>2</th>\n",
              "      <td>0x1604</td>\n",
              "      <td>CUS_0xd40</td>\n",
              "      <td>March</td>\n",
              "      <td>Aaron Maashoh</td>\n",
              "      <td>-500</td>\n",
              "      <td>821-00-0265</td>\n",
              "      <td>Scientist</td>\n",
              "      <td>19114.12</td>\n",
              "      <td>NaN</td>\n",
              "      <td>3</td>\n",
              "      <td>...</td>\n",
              "      <td>Good</td>\n",
              "      <td>809.98</td>\n",
              "      <td>28.609352</td>\n",
              "      <td>22 Years and 3 Months</td>\n",
              "      <td>No</td>\n",
              "      <td>49.574949</td>\n",
              "      <td>81.699521264648</td>\n",
              "      <td>Low_spent_Medium_value_payments</td>\n",
              "      <td>331.2098628537912</td>\n",
              "      <td>TRAIN</td>\n",
              "    </tr>\n",
              "    <tr>\n",
              "      <th>3</th>\n",
              "      <td>0x1605</td>\n",
              "      <td>CUS_0xd40</td>\n",
              "      <td>April</td>\n",
              "      <td>Aaron Maashoh</td>\n",
              "      <td>23</td>\n",
              "      <td>821-00-0265</td>\n",
              "      <td>Scientist</td>\n",
              "      <td>19114.12</td>\n",
              "      <td>NaN</td>\n",
              "      <td>3</td>\n",
              "      <td>...</td>\n",
              "      <td>Good</td>\n",
              "      <td>809.98</td>\n",
              "      <td>31.377862</td>\n",
              "      <td>22 Years and 4 Months</td>\n",
              "      <td>No</td>\n",
              "      <td>49.574949</td>\n",
              "      <td>199.4580743910713</td>\n",
              "      <td>Low_spent_Small_value_payments</td>\n",
              "      <td>223.45130972736786</td>\n",
              "      <td>TRAIN</td>\n",
              "    </tr>\n",
              "    <tr>\n",
              "      <th>4</th>\n",
              "      <td>0x1606</td>\n",
              "      <td>CUS_0xd40</td>\n",
              "      <td>May</td>\n",
              "      <td>Aaron Maashoh</td>\n",
              "      <td>23</td>\n",
              "      <td>821-00-0265</td>\n",
              "      <td>Scientist</td>\n",
              "      <td>19114.12</td>\n",
              "      <td>1824.843333</td>\n",
              "      <td>3</td>\n",
              "      <td>...</td>\n",
              "      <td>Good</td>\n",
              "      <td>809.98</td>\n",
              "      <td>24.797347</td>\n",
              "      <td>22 Years and 5 Months</td>\n",
              "      <td>No</td>\n",
              "      <td>49.574949</td>\n",
              "      <td>41.420153086217326</td>\n",
              "      <td>High_spent_Medium_value_payments</td>\n",
              "      <td>341.48923103222177</td>\n",
              "      <td>TRAIN</td>\n",
              "    </tr>\n",
              "    <tr>\n",
              "      <th>...</th>\n",
              "      <td>...</td>\n",
              "      <td>...</td>\n",
              "      <td>...</td>\n",
              "      <td>...</td>\n",
              "      <td>...</td>\n",
              "      <td>...</td>\n",
              "      <td>...</td>\n",
              "      <td>...</td>\n",
              "      <td>...</td>\n",
              "      <td>...</td>\n",
              "      <td>...</td>\n",
              "      <td>...</td>\n",
              "      <td>...</td>\n",
              "      <td>...</td>\n",
              "      <td>...</td>\n",
              "      <td>...</td>\n",
              "      <td>...</td>\n",
              "      <td>...</td>\n",
              "      <td>...</td>\n",
              "      <td>...</td>\n",
              "      <td>...</td>\n",
              "    </tr>\n",
              "    <tr>\n",
              "      <th>149995</th>\n",
              "      <td>0x25fe5</td>\n",
              "      <td>CUS_0x8600</td>\n",
              "      <td>December</td>\n",
              "      <td>Sarah McBridec</td>\n",
              "      <td>4975</td>\n",
              "      <td>031-35-0942</td>\n",
              "      <td>Architect</td>\n",
              "      <td>20002.88</td>\n",
              "      <td>1929.906667</td>\n",
              "      <td>10</td>\n",
              "      <td>...</td>\n",
              "      <td>_</td>\n",
              "      <td>3571.7</td>\n",
              "      <td>34.780553</td>\n",
              "      <td>NaN</td>\n",
              "      <td>Yes</td>\n",
              "      <td>60.964772</td>\n",
              "      <td>146.48632477751087</td>\n",
              "      <td>Low_spent_Small_value_payments</td>\n",
              "      <td>275.53956951573343</td>\n",
              "      <td>TEST</td>\n",
              "    </tr>\n",
              "    <tr>\n",
              "      <th>149996</th>\n",
              "      <td>0x25fee</td>\n",
              "      <td>CUS_0x942c</td>\n",
              "      <td>September</td>\n",
              "      <td>Nicks</td>\n",
              "      <td>25</td>\n",
              "      <td>078-73-5990</td>\n",
              "      <td>Mechanic</td>\n",
              "      <td>39628.99</td>\n",
              "      <td>NaN</td>\n",
              "      <td>4</td>\n",
              "      <td>...</td>\n",
              "      <td>Good</td>\n",
              "      <td>502.38</td>\n",
              "      <td>27.758522</td>\n",
              "      <td>31 Years and 11 Months</td>\n",
              "      <td>NM</td>\n",
              "      <td>35.104023</td>\n",
              "      <td>181.44299902757518</td>\n",
              "      <td>Low_spent_Small_value_payments</td>\n",
              "      <td>409.39456169535066</td>\n",
              "      <td>TEST</td>\n",
              "    </tr>\n",
              "    <tr>\n",
              "      <th>149997</th>\n",
              "      <td>0x25fef</td>\n",
              "      <td>CUS_0x942c</td>\n",
              "      <td>October</td>\n",
              "      <td>Nicks</td>\n",
              "      <td>25</td>\n",
              "      <td>078-73-5990</td>\n",
              "      <td>Mechanic</td>\n",
              "      <td>39628.99</td>\n",
              "      <td>3359.415833</td>\n",
              "      <td>4</td>\n",
              "      <td>...</td>\n",
              "      <td>Good</td>\n",
              "      <td>502.38</td>\n",
              "      <td>36.858542</td>\n",
              "      <td>32 Years and 0 Months</td>\n",
              "      <td>No</td>\n",
              "      <td>35.104023</td>\n",
              "      <td>__10000__</td>\n",
              "      <td>Low_spent_Large_value_payments</td>\n",
              "      <td>349.7263321025098</td>\n",
              "      <td>TEST</td>\n",
              "    </tr>\n",
              "    <tr>\n",
              "      <th>149998</th>\n",
              "      <td>0x25ff0</td>\n",
              "      <td>CUS_0x942c</td>\n",
              "      <td>November</td>\n",
              "      <td>Nicks</td>\n",
              "      <td>25</td>\n",
              "      <td>078-73-5990</td>\n",
              "      <td>Mechanic</td>\n",
              "      <td>39628.99</td>\n",
              "      <td>NaN</td>\n",
              "      <td>4</td>\n",
              "      <td>...</td>\n",
              "      <td>Good</td>\n",
              "      <td>502.38</td>\n",
              "      <td>39.139840</td>\n",
              "      <td>32 Years and 1 Months</td>\n",
              "      <td>No</td>\n",
              "      <td>35.104023</td>\n",
              "      <td>97.59857973344877</td>\n",
              "      <td>High_spent_Small_value_payments</td>\n",
              "      <td>463.23898098947717</td>\n",
              "      <td>TEST</td>\n",
              "    </tr>\n",
              "    <tr>\n",
              "      <th>149999</th>\n",
              "      <td>0x25ff1</td>\n",
              "      <td>CUS_0x942c</td>\n",
              "      <td>December</td>\n",
              "      <td>Nicks</td>\n",
              "      <td>25</td>\n",
              "      <td>078-73-5990</td>\n",
              "      <td>Mechanic</td>\n",
              "      <td>39628.99</td>\n",
              "      <td>3359.415833</td>\n",
              "      <td>4</td>\n",
              "      <td>...</td>\n",
              "      <td>_</td>\n",
              "      <td>502.38</td>\n",
              "      <td>34.108530</td>\n",
              "      <td>32 Years and 2 Months</td>\n",
              "      <td>No</td>\n",
              "      <td>35.104023</td>\n",
              "      <td>220.45787812168732</td>\n",
              "      <td>Low_spent_Medium_value_payments</td>\n",
              "      <td>360.37968260123847</td>\n",
              "      <td>TEST</td>\n",
              "    </tr>\n",
              "  </tbody>\n",
              "</table>\n",
              "<p>150000 rows × 28 columns</p>\n",
              "</div>\n",
              "      <button class=\"colab-df-convert\" onclick=\"convertToInteractive('df-2b53865f-be3d-4d9d-acdd-7e04d2532f2f')\"\n",
              "              title=\"Convert this dataframe to an interactive table.\"\n",
              "              style=\"display:none;\">\n",
              "        \n",
              "  <svg xmlns=\"http://www.w3.org/2000/svg\" height=\"24px\"viewBox=\"0 0 24 24\"\n",
              "       width=\"24px\">\n",
              "    <path d=\"M0 0h24v24H0V0z\" fill=\"none\"/>\n",
              "    <path d=\"M18.56 5.44l.94 2.06.94-2.06 2.06-.94-2.06-.94-.94-2.06-.94 2.06-2.06.94zm-11 1L8.5 8.5l.94-2.06 2.06-.94-2.06-.94L8.5 2.5l-.94 2.06-2.06.94zm10 10l.94 2.06.94-2.06 2.06-.94-2.06-.94-.94-2.06-.94 2.06-2.06.94z\"/><path d=\"M17.41 7.96l-1.37-1.37c-.4-.4-.92-.59-1.43-.59-.52 0-1.04.2-1.43.59L10.3 9.45l-7.72 7.72c-.78.78-.78 2.05 0 2.83L4 21.41c.39.39.9.59 1.41.59.51 0 1.02-.2 1.41-.59l7.78-7.78 2.81-2.81c.8-.78.8-2.07 0-2.86zM5.41 20L4 18.59l7.72-7.72 1.47 1.35L5.41 20z\"/>\n",
              "  </svg>\n",
              "      </button>\n",
              "      \n",
              "  <style>\n",
              "    .colab-df-container {\n",
              "      display:flex;\n",
              "      flex-wrap:wrap;\n",
              "      gap: 12px;\n",
              "    }\n",
              "\n",
              "    .colab-df-convert {\n",
              "      background-color: #E8F0FE;\n",
              "      border: none;\n",
              "      border-radius: 50%;\n",
              "      cursor: pointer;\n",
              "      display: none;\n",
              "      fill: #1967D2;\n",
              "      height: 32px;\n",
              "      padding: 0 0 0 0;\n",
              "      width: 32px;\n",
              "    }\n",
              "\n",
              "    .colab-df-convert:hover {\n",
              "      background-color: #E2EBFA;\n",
              "      box-shadow: 0px 1px 2px rgba(60, 64, 67, 0.3), 0px 1px 3px 1px rgba(60, 64, 67, 0.15);\n",
              "      fill: #174EA6;\n",
              "    }\n",
              "\n",
              "    [theme=dark] .colab-df-convert {\n",
              "      background-color: #3B4455;\n",
              "      fill: #D2E3FC;\n",
              "    }\n",
              "\n",
              "    [theme=dark] .colab-df-convert:hover {\n",
              "      background-color: #434B5C;\n",
              "      box-shadow: 0px 1px 3px 1px rgba(0, 0, 0, 0.15);\n",
              "      filter: drop-shadow(0px 1px 2px rgba(0, 0, 0, 0.3));\n",
              "      fill: #FFFFFF;\n",
              "    }\n",
              "  </style>\n",
              "\n",
              "      <script>\n",
              "        const buttonEl =\n",
              "          document.querySelector('#df-2b53865f-be3d-4d9d-acdd-7e04d2532f2f button.colab-df-convert');\n",
              "        buttonEl.style.display =\n",
              "          google.colab.kernel.accessAllowed ? 'block' : 'none';\n",
              "\n",
              "        async function convertToInteractive(key) {\n",
              "          const element = document.querySelector('#df-2b53865f-be3d-4d9d-acdd-7e04d2532f2f');\n",
              "          const dataTable =\n",
              "            await google.colab.kernel.invokeFunction('convertToInteractive',\n",
              "                                                     [key], {});\n",
              "          if (!dataTable) return;\n",
              "\n",
              "          const docLinkHtml = 'Like what you see? Visit the ' +\n",
              "            '<a target=\"_blank\" href=https://colab.research.google.com/notebooks/data_table.ipynb>data table notebook</a>'\n",
              "            + ' to learn more about interactive tables.';\n",
              "          element.innerHTML = '';\n",
              "          dataTable['output_type'] = 'display_data';\n",
              "          await google.colab.output.renderOutput(dataTable, element);\n",
              "          const docLink = document.createElement('div');\n",
              "          docLink.innerHTML = docLinkHtml;\n",
              "          element.appendChild(docLink);\n",
              "        }\n",
              "      </script>\n",
              "    </div>\n",
              "  </div>\n",
              "  "
            ]
          },
          "metadata": {},
          "execution_count": 9
        }
      ],
      "source": [
        "train=pd.read_csv('/content/drive/MyDrive/Project 4/train.csv',low_memory=False)\n",
        "ytr=train['Credit_Score']\n",
        "ytr\n",
        "xtr=train.iloc[:,:-1]\n",
        "xtr['TYPE']='TRAIN'\n",
        "test=pd.read_csv('/content/drive/MyDrive/Project 4/test.csv')\n",
        "test['TYPE']='TEST'\n",
        "df=pd.concat([xtr,test],axis=0)\n",
        "df=df.reset_index(drop=True)\n",
        "df "
      ]
    },
    {
      "cell_type": "code",
      "execution_count": 10,
      "id": "1273aace",
      "metadata": {
        "id": "1273aace"
      },
      "outputs": [],
      "source": [
        "y=pd.DataFrame(ytr.map({'Good': 2, 'Standard': 1, 'Poor': 0}))\n",
        "y=y.astype(object)"
      ]
    },
    {
      "cell_type": "code",
      "execution_count": 11,
      "id": "4a388b0e",
      "metadata": {
        "id": "4a388b0e"
      },
      "outputs": [],
      "source": [
        "#handled\n",
        "df['SSN']=df.groupby('Customer_ID')['SSN'].transform(lambda x:x.replace('#F%$D@*&8',np.NaN))\n",
        "df['SSN']=df.groupby('Customer_ID')['SSN'].transform(lambda x:x.fillna(x.mode()[0]))"
      ]
    },
    {
      "cell_type": "code",
      "execution_count": 12,
      "id": "dc8f8c8f",
      "metadata": {
        "id": "dc8f8c8f"
      },
      "outputs": [],
      "source": [
        "#occupation\n",
        "df['Occupation']=df.groupby('SSN')['Occupation'].transform(lambda x:x.replace('_______',np.NaN))\n",
        "df['Occupation']=df.groupby('SSN')['Occupation'].transform(lambda x:x.fillna(x.mode()[0]))"
      ]
    },
    {
      "cell_type": "code",
      "execution_count": 13,
      "id": "f7c07f78",
      "metadata": {
        "id": "f7c07f78"
      },
      "outputs": [],
      "source": [
        "#payment_Behaviour\n",
        "df['Payment_Behaviour']=df.groupby('SSN')['Payment_Behaviour'].transform(lambda x:x.replace('!@9#%8',np.NaN))\n",
        "df['Payment_Behaviour']=df.groupby('SSN')['Payment_Behaviour'].transform(lambda x:x.fillna(x.mode()[0]))"
      ]
    },
    {
      "cell_type": "code",
      "execution_count": 14,
      "id": "5ede06fb",
      "metadata": {
        "id": "5ede06fb"
      },
      "outputs": [],
      "source": [
        "df['AGELIST']=df['Age'].str.split('_')\n",
        "df['Age']=df['AGELIST'].apply(lambda x:x[0])\n",
        "df['Age']=df['Age'].astype('float64')\n",
        "df['RRR']=df.groupby(['TYPE','Customer_ID'])['Age'].transform(lambda x:x.mode()[0])\n",
        "df['Age']=df.groupby(['Customer_ID'])['RRR'].transform(lambda x:x.max())\n",
        "df.drop(['RRR','AGELIST'],axis=1,inplace=True)"
      ]
    },
    {
      "cell_type": "code",
      "execution_count": 15,
      "id": "7501269b",
      "metadata": {
        "id": "7501269b"
      },
      "outputs": [],
      "source": [
        "df['Annual_Income']=df.groupby('SSN')['Annual_Income'].transform(lambda x:x.mode()[0])"
      ]
    },
    {
      "cell_type": "code",
      "execution_count": 16,
      "id": "ac9a7b49",
      "metadata": {
        "id": "ac9a7b49"
      },
      "outputs": [],
      "source": [
        "df['Monthly_Inhand_Salary']=df.groupby('SSN')['Monthly_Inhand_Salary'].transform(lambda x:x.mode()[0])"
      ]
    },
    {
      "cell_type": "code",
      "execution_count": 17,
      "id": "423bf9a7",
      "metadata": {
        "id": "423bf9a7"
      },
      "outputs": [],
      "source": [
        "df['Num_Bank_Accounts']=df.groupby('SSN')['Num_Bank_Accounts'].transform(lambda x:x.mode()[0])"
      ]
    },
    {
      "cell_type": "code",
      "execution_count": 18,
      "id": "41605c52",
      "metadata": {
        "id": "41605c52"
      },
      "outputs": [],
      "source": [
        "df['Interest_Rate']=df.groupby('SSN')['Interest_Rate'].transform(lambda x:x.mode()[0])"
      ]
    },
    {
      "cell_type": "code",
      "execution_count": 19,
      "id": "ab3bcc48",
      "metadata": {
        "id": "ab3bcc48",
        "outputId": "048fd850-4654-40e8-e18c-5a2080479602",
        "colab": {
          "base_uri": "https://localhost:8080/",
          "height": 1000
        }
      },
      "outputs": [
        {
          "output_type": "execute_result",
          "data": {
            "text/plain": [
              "        Num_Credit_Card  Interest_Rate Num_of_Loan  \\\n",
              "0                     4              3           4   \n",
              "1                     4              3           4   \n",
              "2                     4              3           4   \n",
              "3                     4              3           4   \n",
              "4                     4              3           4   \n",
              "...                 ...            ...         ...   \n",
              "149995                8             29           5   \n",
              "149996                6              7          2_   \n",
              "149997                6              7           2   \n",
              "149998                6              7          2_   \n",
              "149999                6              7           2   \n",
              "\n",
              "                                             Type_of_Loan  \\\n",
              "0       Auto Loan, Credit-Builder Loan, Personal Loan,...   \n",
              "1       Auto Loan, Credit-Builder Loan, Personal Loan,...   \n",
              "2       Auto Loan, Credit-Builder Loan, Personal Loan,...   \n",
              "3       Auto Loan, Credit-Builder Loan, Personal Loan,...   \n",
              "4       Auto Loan, Credit-Builder Loan, Personal Loan,...   \n",
              "...                                                   ...   \n",
              "149995  Personal Loan, Auto Loan, Mortgage Loan, Stude...   \n",
              "149996                        Auto Loan, and Student Loan   \n",
              "149997                        Auto Loan, and Student Loan   \n",
              "149998                        Auto Loan, and Student Loan   \n",
              "149999                        Auto Loan, and Student Loan   \n",
              "\n",
              "        Delay_from_due_date Num_of_Delayed_Payment Changed_Credit_Limit  \\\n",
              "0                         3                      7                11.27   \n",
              "1                        -1                    NaN                11.27   \n",
              "2                         3                      7                    _   \n",
              "3                         5                      4                 6.27   \n",
              "4                         6                    NaN                11.27   \n",
              "...                     ...                    ...                  ...   \n",
              "149995                   33                     25                18.31   \n",
              "149996                   20                    NaN                 11.5   \n",
              "149997                   23                      5                 13.5   \n",
              "149998                   21                     6_                 11.5   \n",
              "149999                   22                      5                 11.5   \n",
              "\n",
              "        Num_Credit_Inquiries Credit_Mix Outstanding_Debt  \\\n",
              "0                        4.0          _           809.98   \n",
              "1                        4.0       Good           809.98   \n",
              "2                        4.0       Good           809.98   \n",
              "3                        4.0       Good           809.98   \n",
              "4                        4.0       Good           809.98   \n",
              "...                      ...        ...              ...   \n",
              "149995                  12.0          _           3571.7   \n",
              "149996                   7.0       Good           502.38   \n",
              "149997                   7.0       Good           502.38   \n",
              "149998                   7.0       Good           502.38   \n",
              "149999                   7.0          _           502.38   \n",
              "\n",
              "        Credit_Utilization_Ratio      Credit_History_Age  \\\n",
              "0                      26.822620   22 Years and 1 Months   \n",
              "1                      31.944960                     NaN   \n",
              "2                      28.609352   22 Years and 3 Months   \n",
              "3                      31.377862   22 Years and 4 Months   \n",
              "4                      24.797347   22 Years and 5 Months   \n",
              "...                          ...                     ...   \n",
              "149995                 34.780553                     NaN   \n",
              "149996                 27.758522  31 Years and 11 Months   \n",
              "149997                 36.858542   32 Years and 0 Months   \n",
              "149998                 39.139840   32 Years and 1 Months   \n",
              "149999                 34.108530   32 Years and 2 Months   \n",
              "\n",
              "       Payment_of_Min_Amount  Total_EMI_per_month Amount_invested_monthly  \\\n",
              "0                         No            49.574949       80.41529543900253   \n",
              "1                         No            49.574949      118.28022162236736   \n",
              "2                         No            49.574949         81.699521264648   \n",
              "3                         No            49.574949       199.4580743910713   \n",
              "4                         No            49.574949      41.420153086217326   \n",
              "...                      ...                  ...                     ...   \n",
              "149995                   Yes            60.964772      146.48632477751087   \n",
              "149996                    NM            35.104023      181.44299902757518   \n",
              "149997                    No            35.104023               __10000__   \n",
              "149998                    No            35.104023       97.59857973344877   \n",
              "149999                    No            35.104023      220.45787812168732   \n",
              "\n",
              "                       Payment_Behaviour     Monthly_Balance   TYPE  \n",
              "0        High_spent_Small_value_payments  312.49408867943663  TRAIN  \n",
              "1         Low_spent_Large_value_payments  284.62916249607184  TRAIN  \n",
              "2        Low_spent_Medium_value_payments   331.2098628537912  TRAIN  \n",
              "3         Low_spent_Small_value_payments  223.45130972736786  TRAIN  \n",
              "4       High_spent_Medium_value_payments  341.48923103222177  TRAIN  \n",
              "...                                  ...                 ...    ...  \n",
              "149995    Low_spent_Small_value_payments  275.53956951573343   TEST  \n",
              "149996    Low_spent_Small_value_payments  409.39456169535066   TEST  \n",
              "149997    Low_spent_Large_value_payments   349.7263321025098   TEST  \n",
              "149998   High_spent_Small_value_payments  463.23898098947717   TEST  \n",
              "149999   Low_spent_Medium_value_payments  360.37968260123847   TEST  \n",
              "\n",
              "[150000 rows x 18 columns]"
            ],
            "text/html": [
              "\n",
              "  <div id=\"df-b81e8792-7799-494f-8908-630cda202789\">\n",
              "    <div class=\"colab-df-container\">\n",
              "      <div>\n",
              "<style scoped>\n",
              "    .dataframe tbody tr th:only-of-type {\n",
              "        vertical-align: middle;\n",
              "    }\n",
              "\n",
              "    .dataframe tbody tr th {\n",
              "        vertical-align: top;\n",
              "    }\n",
              "\n",
              "    .dataframe thead th {\n",
              "        text-align: right;\n",
              "    }\n",
              "</style>\n",
              "<table border=\"1\" class=\"dataframe\">\n",
              "  <thead>\n",
              "    <tr style=\"text-align: right;\">\n",
              "      <th></th>\n",
              "      <th>Num_Credit_Card</th>\n",
              "      <th>Interest_Rate</th>\n",
              "      <th>Num_of_Loan</th>\n",
              "      <th>Type_of_Loan</th>\n",
              "      <th>Delay_from_due_date</th>\n",
              "      <th>Num_of_Delayed_Payment</th>\n",
              "      <th>Changed_Credit_Limit</th>\n",
              "      <th>Num_Credit_Inquiries</th>\n",
              "      <th>Credit_Mix</th>\n",
              "      <th>Outstanding_Debt</th>\n",
              "      <th>Credit_Utilization_Ratio</th>\n",
              "      <th>Credit_History_Age</th>\n",
              "      <th>Payment_of_Min_Amount</th>\n",
              "      <th>Total_EMI_per_month</th>\n",
              "      <th>Amount_invested_monthly</th>\n",
              "      <th>Payment_Behaviour</th>\n",
              "      <th>Monthly_Balance</th>\n",
              "      <th>TYPE</th>\n",
              "    </tr>\n",
              "  </thead>\n",
              "  <tbody>\n",
              "    <tr>\n",
              "      <th>0</th>\n",
              "      <td>4</td>\n",
              "      <td>3</td>\n",
              "      <td>4</td>\n",
              "      <td>Auto Loan, Credit-Builder Loan, Personal Loan,...</td>\n",
              "      <td>3</td>\n",
              "      <td>7</td>\n",
              "      <td>11.27</td>\n",
              "      <td>4.0</td>\n",
              "      <td>_</td>\n",
              "      <td>809.98</td>\n",
              "      <td>26.822620</td>\n",
              "      <td>22 Years and 1 Months</td>\n",
              "      <td>No</td>\n",
              "      <td>49.574949</td>\n",
              "      <td>80.41529543900253</td>\n",
              "      <td>High_spent_Small_value_payments</td>\n",
              "      <td>312.49408867943663</td>\n",
              "      <td>TRAIN</td>\n",
              "    </tr>\n",
              "    <tr>\n",
              "      <th>1</th>\n",
              "      <td>4</td>\n",
              "      <td>3</td>\n",
              "      <td>4</td>\n",
              "      <td>Auto Loan, Credit-Builder Loan, Personal Loan,...</td>\n",
              "      <td>-1</td>\n",
              "      <td>NaN</td>\n",
              "      <td>11.27</td>\n",
              "      <td>4.0</td>\n",
              "      <td>Good</td>\n",
              "      <td>809.98</td>\n",
              "      <td>31.944960</td>\n",
              "      <td>NaN</td>\n",
              "      <td>No</td>\n",
              "      <td>49.574949</td>\n",
              "      <td>118.28022162236736</td>\n",
              "      <td>Low_spent_Large_value_payments</td>\n",
              "      <td>284.62916249607184</td>\n",
              "      <td>TRAIN</td>\n",
              "    </tr>\n",
              "    <tr>\n",
              "      <th>2</th>\n",
              "      <td>4</td>\n",
              "      <td>3</td>\n",
              "      <td>4</td>\n",
              "      <td>Auto Loan, Credit-Builder Loan, Personal Loan,...</td>\n",
              "      <td>3</td>\n",
              "      <td>7</td>\n",
              "      <td>_</td>\n",
              "      <td>4.0</td>\n",
              "      <td>Good</td>\n",
              "      <td>809.98</td>\n",
              "      <td>28.609352</td>\n",
              "      <td>22 Years and 3 Months</td>\n",
              "      <td>No</td>\n",
              "      <td>49.574949</td>\n",
              "      <td>81.699521264648</td>\n",
              "      <td>Low_spent_Medium_value_payments</td>\n",
              "      <td>331.2098628537912</td>\n",
              "      <td>TRAIN</td>\n",
              "    </tr>\n",
              "    <tr>\n",
              "      <th>3</th>\n",
              "      <td>4</td>\n",
              "      <td>3</td>\n",
              "      <td>4</td>\n",
              "      <td>Auto Loan, Credit-Builder Loan, Personal Loan,...</td>\n",
              "      <td>5</td>\n",
              "      <td>4</td>\n",
              "      <td>6.27</td>\n",
              "      <td>4.0</td>\n",
              "      <td>Good</td>\n",
              "      <td>809.98</td>\n",
              "      <td>31.377862</td>\n",
              "      <td>22 Years and 4 Months</td>\n",
              "      <td>No</td>\n",
              "      <td>49.574949</td>\n",
              "      <td>199.4580743910713</td>\n",
              "      <td>Low_spent_Small_value_payments</td>\n",
              "      <td>223.45130972736786</td>\n",
              "      <td>TRAIN</td>\n",
              "    </tr>\n",
              "    <tr>\n",
              "      <th>4</th>\n",
              "      <td>4</td>\n",
              "      <td>3</td>\n",
              "      <td>4</td>\n",
              "      <td>Auto Loan, Credit-Builder Loan, Personal Loan,...</td>\n",
              "      <td>6</td>\n",
              "      <td>NaN</td>\n",
              "      <td>11.27</td>\n",
              "      <td>4.0</td>\n",
              "      <td>Good</td>\n",
              "      <td>809.98</td>\n",
              "      <td>24.797347</td>\n",
              "      <td>22 Years and 5 Months</td>\n",
              "      <td>No</td>\n",
              "      <td>49.574949</td>\n",
              "      <td>41.420153086217326</td>\n",
              "      <td>High_spent_Medium_value_payments</td>\n",
              "      <td>341.48923103222177</td>\n",
              "      <td>TRAIN</td>\n",
              "    </tr>\n",
              "    <tr>\n",
              "      <th>...</th>\n",
              "      <td>...</td>\n",
              "      <td>...</td>\n",
              "      <td>...</td>\n",
              "      <td>...</td>\n",
              "      <td>...</td>\n",
              "      <td>...</td>\n",
              "      <td>...</td>\n",
              "      <td>...</td>\n",
              "      <td>...</td>\n",
              "      <td>...</td>\n",
              "      <td>...</td>\n",
              "      <td>...</td>\n",
              "      <td>...</td>\n",
              "      <td>...</td>\n",
              "      <td>...</td>\n",
              "      <td>...</td>\n",
              "      <td>...</td>\n",
              "      <td>...</td>\n",
              "    </tr>\n",
              "    <tr>\n",
              "      <th>149995</th>\n",
              "      <td>8</td>\n",
              "      <td>29</td>\n",
              "      <td>5</td>\n",
              "      <td>Personal Loan, Auto Loan, Mortgage Loan, Stude...</td>\n",
              "      <td>33</td>\n",
              "      <td>25</td>\n",
              "      <td>18.31</td>\n",
              "      <td>12.0</td>\n",
              "      <td>_</td>\n",
              "      <td>3571.7</td>\n",
              "      <td>34.780553</td>\n",
              "      <td>NaN</td>\n",
              "      <td>Yes</td>\n",
              "      <td>60.964772</td>\n",
              "      <td>146.48632477751087</td>\n",
              "      <td>Low_spent_Small_value_payments</td>\n",
              "      <td>275.53956951573343</td>\n",
              "      <td>TEST</td>\n",
              "    </tr>\n",
              "    <tr>\n",
              "      <th>149996</th>\n",
              "      <td>6</td>\n",
              "      <td>7</td>\n",
              "      <td>2_</td>\n",
              "      <td>Auto Loan, and Student Loan</td>\n",
              "      <td>20</td>\n",
              "      <td>NaN</td>\n",
              "      <td>11.5</td>\n",
              "      <td>7.0</td>\n",
              "      <td>Good</td>\n",
              "      <td>502.38</td>\n",
              "      <td>27.758522</td>\n",
              "      <td>31 Years and 11 Months</td>\n",
              "      <td>NM</td>\n",
              "      <td>35.104023</td>\n",
              "      <td>181.44299902757518</td>\n",
              "      <td>Low_spent_Small_value_payments</td>\n",
              "      <td>409.39456169535066</td>\n",
              "      <td>TEST</td>\n",
              "    </tr>\n",
              "    <tr>\n",
              "      <th>149997</th>\n",
              "      <td>6</td>\n",
              "      <td>7</td>\n",
              "      <td>2</td>\n",
              "      <td>Auto Loan, and Student Loan</td>\n",
              "      <td>23</td>\n",
              "      <td>5</td>\n",
              "      <td>13.5</td>\n",
              "      <td>7.0</td>\n",
              "      <td>Good</td>\n",
              "      <td>502.38</td>\n",
              "      <td>36.858542</td>\n",
              "      <td>32 Years and 0 Months</td>\n",
              "      <td>No</td>\n",
              "      <td>35.104023</td>\n",
              "      <td>__10000__</td>\n",
              "      <td>Low_spent_Large_value_payments</td>\n",
              "      <td>349.7263321025098</td>\n",
              "      <td>TEST</td>\n",
              "    </tr>\n",
              "    <tr>\n",
              "      <th>149998</th>\n",
              "      <td>6</td>\n",
              "      <td>7</td>\n",
              "      <td>2_</td>\n",
              "      <td>Auto Loan, and Student Loan</td>\n",
              "      <td>21</td>\n",
              "      <td>6_</td>\n",
              "      <td>11.5</td>\n",
              "      <td>7.0</td>\n",
              "      <td>Good</td>\n",
              "      <td>502.38</td>\n",
              "      <td>39.139840</td>\n",
              "      <td>32 Years and 1 Months</td>\n",
              "      <td>No</td>\n",
              "      <td>35.104023</td>\n",
              "      <td>97.59857973344877</td>\n",
              "      <td>High_spent_Small_value_payments</td>\n",
              "      <td>463.23898098947717</td>\n",
              "      <td>TEST</td>\n",
              "    </tr>\n",
              "    <tr>\n",
              "      <th>149999</th>\n",
              "      <td>6</td>\n",
              "      <td>7</td>\n",
              "      <td>2</td>\n",
              "      <td>Auto Loan, and Student Loan</td>\n",
              "      <td>22</td>\n",
              "      <td>5</td>\n",
              "      <td>11.5</td>\n",
              "      <td>7.0</td>\n",
              "      <td>_</td>\n",
              "      <td>502.38</td>\n",
              "      <td>34.108530</td>\n",
              "      <td>32 Years and 2 Months</td>\n",
              "      <td>No</td>\n",
              "      <td>35.104023</td>\n",
              "      <td>220.45787812168732</td>\n",
              "      <td>Low_spent_Medium_value_payments</td>\n",
              "      <td>360.37968260123847</td>\n",
              "      <td>TEST</td>\n",
              "    </tr>\n",
              "  </tbody>\n",
              "</table>\n",
              "<p>150000 rows × 18 columns</p>\n",
              "</div>\n",
              "      <button class=\"colab-df-convert\" onclick=\"convertToInteractive('df-b81e8792-7799-494f-8908-630cda202789')\"\n",
              "              title=\"Convert this dataframe to an interactive table.\"\n",
              "              style=\"display:none;\">\n",
              "        \n",
              "  <svg xmlns=\"http://www.w3.org/2000/svg\" height=\"24px\"viewBox=\"0 0 24 24\"\n",
              "       width=\"24px\">\n",
              "    <path d=\"M0 0h24v24H0V0z\" fill=\"none\"/>\n",
              "    <path d=\"M18.56 5.44l.94 2.06.94-2.06 2.06-.94-2.06-.94-.94-2.06-.94 2.06-2.06.94zm-11 1L8.5 8.5l.94-2.06 2.06-.94-2.06-.94L8.5 2.5l-.94 2.06-2.06.94zm10 10l.94 2.06.94-2.06 2.06-.94-2.06-.94-.94-2.06-.94 2.06-2.06.94z\"/><path d=\"M17.41 7.96l-1.37-1.37c-.4-.4-.92-.59-1.43-.59-.52 0-1.04.2-1.43.59L10.3 9.45l-7.72 7.72c-.78.78-.78 2.05 0 2.83L4 21.41c.39.39.9.59 1.41.59.51 0 1.02-.2 1.41-.59l7.78-7.78 2.81-2.81c.8-.78.8-2.07 0-2.86zM5.41 20L4 18.59l7.72-7.72 1.47 1.35L5.41 20z\"/>\n",
              "  </svg>\n",
              "      </button>\n",
              "      \n",
              "  <style>\n",
              "    .colab-df-container {\n",
              "      display:flex;\n",
              "      flex-wrap:wrap;\n",
              "      gap: 12px;\n",
              "    }\n",
              "\n",
              "    .colab-df-convert {\n",
              "      background-color: #E8F0FE;\n",
              "      border: none;\n",
              "      border-radius: 50%;\n",
              "      cursor: pointer;\n",
              "      display: none;\n",
              "      fill: #1967D2;\n",
              "      height: 32px;\n",
              "      padding: 0 0 0 0;\n",
              "      width: 32px;\n",
              "    }\n",
              "\n",
              "    .colab-df-convert:hover {\n",
              "      background-color: #E2EBFA;\n",
              "      box-shadow: 0px 1px 2px rgba(60, 64, 67, 0.3), 0px 1px 3px 1px rgba(60, 64, 67, 0.15);\n",
              "      fill: #174EA6;\n",
              "    }\n",
              "\n",
              "    [theme=dark] .colab-df-convert {\n",
              "      background-color: #3B4455;\n",
              "      fill: #D2E3FC;\n",
              "    }\n",
              "\n",
              "    [theme=dark] .colab-df-convert:hover {\n",
              "      background-color: #434B5C;\n",
              "      box-shadow: 0px 1px 3px 1px rgba(0, 0, 0, 0.15);\n",
              "      filter: drop-shadow(0px 1px 2px rgba(0, 0, 0, 0.3));\n",
              "      fill: #FFFFFF;\n",
              "    }\n",
              "  </style>\n",
              "\n",
              "      <script>\n",
              "        const buttonEl =\n",
              "          document.querySelector('#df-b81e8792-7799-494f-8908-630cda202789 button.colab-df-convert');\n",
              "        buttonEl.style.display =\n",
              "          google.colab.kernel.accessAllowed ? 'block' : 'none';\n",
              "\n",
              "        async function convertToInteractive(key) {\n",
              "          const element = document.querySelector('#df-b81e8792-7799-494f-8908-630cda202789');\n",
              "          const dataTable =\n",
              "            await google.colab.kernel.invokeFunction('convertToInteractive',\n",
              "                                                     [key], {});\n",
              "          if (!dataTable) return;\n",
              "\n",
              "          const docLinkHtml = 'Like what you see? Visit the ' +\n",
              "            '<a target=\"_blank\" href=https://colab.research.google.com/notebooks/data_table.ipynb>data table notebook</a>'\n",
              "            + ' to learn more about interactive tables.';\n",
              "          element.innerHTML = '';\n",
              "          dataTable['output_type'] = 'display_data';\n",
              "          await google.colab.output.renderOutput(dataTable, element);\n",
              "          const docLink = document.createElement('div');\n",
              "          docLink.innerHTML = docLinkHtml;\n",
              "          element.appendChild(docLink);\n",
              "        }\n",
              "      </script>\n",
              "    </div>\n",
              "  </div>\n",
              "  "
            ]
          },
          "metadata": {},
          "execution_count": 19
        }
      ],
      "source": [
        "df.iloc[:,10:]"
      ]
    },
    {
      "cell_type": "code",
      "execution_count": 20,
      "id": "5d0e7fe2",
      "metadata": {
        "id": "5d0e7fe2",
        "outputId": "a8d57fad-d427-44a5-92dd-6caa27fd6ccf",
        "colab": {
          "base_uri": "https://localhost:8080/",
          "height": 143
        }
      },
      "outputs": [
        {
          "output_type": "execute_result",
          "data": {
            "text/plain": [
              "Empty DataFrame\n",
              "Columns: [ID, Customer_ID, Month, Name, Age, SSN, Occupation, Annual_Income, Monthly_Inhand_Salary, Num_Bank_Accounts, Num_Credit_Card, Interest_Rate, Num_of_Loan, Type_of_Loan, Delay_from_due_date, Num_of_Delayed_Payment, Changed_Credit_Limit, Num_Credit_Inquiries, Credit_Mix, Outstanding_Debt, Credit_Utilization_Ratio, Credit_History_Age, Payment_of_Min_Amount, Total_EMI_per_month, Amount_invested_monthly, Payment_Behaviour, Monthly_Balance, TYPE, nl]\n",
              "Index: []\n",
              "\n",
              "[0 rows x 29 columns]"
            ],
            "text/html": [
              "\n",
              "  <div id=\"df-c132aae6-b736-42a4-b898-582ec778ec26\">\n",
              "    <div class=\"colab-df-container\">\n",
              "      <div>\n",
              "<style scoped>\n",
              "    .dataframe tbody tr th:only-of-type {\n",
              "        vertical-align: middle;\n",
              "    }\n",
              "\n",
              "    .dataframe tbody tr th {\n",
              "        vertical-align: top;\n",
              "    }\n",
              "\n",
              "    .dataframe thead th {\n",
              "        text-align: right;\n",
              "    }\n",
              "</style>\n",
              "<table border=\"1\" class=\"dataframe\">\n",
              "  <thead>\n",
              "    <tr style=\"text-align: right;\">\n",
              "      <th></th>\n",
              "      <th>ID</th>\n",
              "      <th>Customer_ID</th>\n",
              "      <th>Month</th>\n",
              "      <th>Name</th>\n",
              "      <th>Age</th>\n",
              "      <th>SSN</th>\n",
              "      <th>Occupation</th>\n",
              "      <th>Annual_Income</th>\n",
              "      <th>Monthly_Inhand_Salary</th>\n",
              "      <th>Num_Bank_Accounts</th>\n",
              "      <th>...</th>\n",
              "      <th>Outstanding_Debt</th>\n",
              "      <th>Credit_Utilization_Ratio</th>\n",
              "      <th>Credit_History_Age</th>\n",
              "      <th>Payment_of_Min_Amount</th>\n",
              "      <th>Total_EMI_per_month</th>\n",
              "      <th>Amount_invested_monthly</th>\n",
              "      <th>Payment_Behaviour</th>\n",
              "      <th>Monthly_Balance</th>\n",
              "      <th>TYPE</th>\n",
              "      <th>nl</th>\n",
              "    </tr>\n",
              "  </thead>\n",
              "  <tbody>\n",
              "  </tbody>\n",
              "</table>\n",
              "<p>0 rows × 29 columns</p>\n",
              "</div>\n",
              "      <button class=\"colab-df-convert\" onclick=\"convertToInteractive('df-c132aae6-b736-42a4-b898-582ec778ec26')\"\n",
              "              title=\"Convert this dataframe to an interactive table.\"\n",
              "              style=\"display:none;\">\n",
              "        \n",
              "  <svg xmlns=\"http://www.w3.org/2000/svg\" height=\"24px\"viewBox=\"0 0 24 24\"\n",
              "       width=\"24px\">\n",
              "    <path d=\"M0 0h24v24H0V0z\" fill=\"none\"/>\n",
              "    <path d=\"M18.56 5.44l.94 2.06.94-2.06 2.06-.94-2.06-.94-.94-2.06-.94 2.06-2.06.94zm-11 1L8.5 8.5l.94-2.06 2.06-.94-2.06-.94L8.5 2.5l-.94 2.06-2.06.94zm10 10l.94 2.06.94-2.06 2.06-.94-2.06-.94-.94-2.06-.94 2.06-2.06.94z\"/><path d=\"M17.41 7.96l-1.37-1.37c-.4-.4-.92-.59-1.43-.59-.52 0-1.04.2-1.43.59L10.3 9.45l-7.72 7.72c-.78.78-.78 2.05 0 2.83L4 21.41c.39.39.9.59 1.41.59.51 0 1.02-.2 1.41-.59l7.78-7.78 2.81-2.81c.8-.78.8-2.07 0-2.86zM5.41 20L4 18.59l7.72-7.72 1.47 1.35L5.41 20z\"/>\n",
              "  </svg>\n",
              "      </button>\n",
              "      \n",
              "  <style>\n",
              "    .colab-df-container {\n",
              "      display:flex;\n",
              "      flex-wrap:wrap;\n",
              "      gap: 12px;\n",
              "    }\n",
              "\n",
              "    .colab-df-convert {\n",
              "      background-color: #E8F0FE;\n",
              "      border: none;\n",
              "      border-radius: 50%;\n",
              "      cursor: pointer;\n",
              "      display: none;\n",
              "      fill: #1967D2;\n",
              "      height: 32px;\n",
              "      padding: 0 0 0 0;\n",
              "      width: 32px;\n",
              "    }\n",
              "\n",
              "    .colab-df-convert:hover {\n",
              "      background-color: #E2EBFA;\n",
              "      box-shadow: 0px 1px 2px rgba(60, 64, 67, 0.3), 0px 1px 3px 1px rgba(60, 64, 67, 0.15);\n",
              "      fill: #174EA6;\n",
              "    }\n",
              "\n",
              "    [theme=dark] .colab-df-convert {\n",
              "      background-color: #3B4455;\n",
              "      fill: #D2E3FC;\n",
              "    }\n",
              "\n",
              "    [theme=dark] .colab-df-convert:hover {\n",
              "      background-color: #434B5C;\n",
              "      box-shadow: 0px 1px 3px 1px rgba(0, 0, 0, 0.15);\n",
              "      filter: drop-shadow(0px 1px 2px rgba(0, 0, 0, 0.3));\n",
              "      fill: #FFFFFF;\n",
              "    }\n",
              "  </style>\n",
              "\n",
              "      <script>\n",
              "        const buttonEl =\n",
              "          document.querySelector('#df-c132aae6-b736-42a4-b898-582ec778ec26 button.colab-df-convert');\n",
              "        buttonEl.style.display =\n",
              "          google.colab.kernel.accessAllowed ? 'block' : 'none';\n",
              "\n",
              "        async function convertToInteractive(key) {\n",
              "          const element = document.querySelector('#df-c132aae6-b736-42a4-b898-582ec778ec26');\n",
              "          const dataTable =\n",
              "            await google.colab.kernel.invokeFunction('convertToInteractive',\n",
              "                                                     [key], {});\n",
              "          if (!dataTable) return;\n",
              "\n",
              "          const docLinkHtml = 'Like what you see? Visit the ' +\n",
              "            '<a target=\"_blank\" href=https://colab.research.google.com/notebooks/data_table.ipynb>data table notebook</a>'\n",
              "            + ' to learn more about interactive tables.';\n",
              "          element.innerHTML = '';\n",
              "          dataTable['output_type'] = 'display_data';\n",
              "          await google.colab.output.renderOutput(dataTable, element);\n",
              "          const docLink = document.createElement('div');\n",
              "          docLink.innerHTML = docLinkHtml;\n",
              "          element.appendChild(docLink);\n",
              "        }\n",
              "      </script>\n",
              "    </div>\n",
              "  </div>\n",
              "  "
            ]
          },
          "metadata": {},
          "execution_count": 20
        }
      ],
      "source": [
        "df['Num_of_Loan']=df.groupby('SSN')['Num_of_Loan'].transform(lambda x:x.mode()[0])\n",
        "df['Num_of_Loan']=df['Num_of_Loan'].astype(int)\n",
        "df['Type_of_Loan']=df['Type_of_Loan'].fillna('NO LOANS')\n",
        "df['Type_of_Loan']=df['Type_of_Loan'].transform(lambda x:x.split(','))\n",
        "df['nl']=df['Type_of_Loan'].transform(lambda x:len(x))\n",
        "df['Type_of_Loan']=df['Type_of_Loan'].astype(str)\n",
        "df['nl']=np.where(df['Type_of_Loan']==str(['NO LOANS']),0,df['nl'])\n",
        "df[df['Num_of_Loan']!=df['nl']]"
      ]
    },
    {
      "cell_type": "code",
      "execution_count": 21,
      "id": "1715a912",
      "metadata": {
        "id": "1715a912"
      },
      "outputs": [],
      "source": [
        "df=df.drop('nl',axis=1)"
      ]
    },
    {
      "cell_type": "code",
      "execution_count": 22,
      "id": "bb2e7496",
      "metadata": {
        "id": "bb2e7496",
        "outputId": "86ef3ef3-cfc3-4f8b-b69b-a1a7b012b196",
        "colab": {
          "base_uri": "https://localhost:8080/"
        }
      },
      "outputs": [
        {
          "output_type": "stream",
          "name": "stdout",
          "text": [
            "<class 'pandas.core.frame.DataFrame'>\n",
            "RangeIndex: 150000 entries, 0 to 149999\n",
            "Data columns (total 28 columns):\n",
            " #   Column                    Non-Null Count   Dtype  \n",
            "---  ------                    --------------   -----  \n",
            " 0   ID                        150000 non-null  object \n",
            " 1   Customer_ID               150000 non-null  object \n",
            " 2   Month                     150000 non-null  object \n",
            " 3   Name                      135000 non-null  object \n",
            " 4   Age                       150000 non-null  float64\n",
            " 5   SSN                       150000 non-null  object \n",
            " 6   Occupation                150000 non-null  object \n",
            " 7   Annual_Income             150000 non-null  object \n",
            " 8   Monthly_Inhand_Salary     150000 non-null  float64\n",
            " 9   Num_Bank_Accounts         150000 non-null  int64  \n",
            " 10  Num_Credit_Card           150000 non-null  int64  \n",
            " 11  Interest_Rate             150000 non-null  int64  \n",
            " 12  Num_of_Loan               150000 non-null  int64  \n",
            " 13  Type_of_Loan              150000 non-null  object \n",
            " 14  Delay_from_due_date       150000 non-null  int64  \n",
            " 15  Num_of_Delayed_Payment    139500 non-null  object \n",
            " 16  Changed_Credit_Limit      150000 non-null  object \n",
            " 17  Num_Credit_Inquiries      147000 non-null  float64\n",
            " 18  Credit_Mix                150000 non-null  object \n",
            " 19  Outstanding_Debt          150000 non-null  object \n",
            " 20  Credit_Utilization_Ratio  150000 non-null  float64\n",
            " 21  Credit_History_Age        136500 non-null  object \n",
            " 22  Payment_of_Min_Amount     150000 non-null  object \n",
            " 23  Total_EMI_per_month       150000 non-null  float64\n",
            " 24  Amount_invested_monthly   143250 non-null  object \n",
            " 25  Payment_Behaviour         150000 non-null  object \n",
            " 26  Monthly_Balance           148238 non-null  object \n",
            " 27  TYPE                      150000 non-null  object \n",
            "dtypes: float64(5), int64(5), object(18)\n",
            "memory usage: 32.0+ MB\n"
          ]
        }
      ],
      "source": [
        "df.info()"
      ]
    },
    {
      "cell_type": "code",
      "execution_count": 23,
      "id": "e63774a6",
      "metadata": {
        "id": "e63774a6",
        "outputId": "44007219-3c81-4764-8670-4b3d3b563832",
        "colab": {
          "base_uri": "https://localhost:8080/",
          "height": 143
        }
      },
      "outputs": [
        {
          "output_type": "execute_result",
          "data": {
            "text/plain": [
              "Empty DataFrame\n",
              "Columns: [ID, Customer_ID, Month, Name, Age, SSN, Occupation, Annual_Income, Monthly_Inhand_Salary, Num_Bank_Accounts, Num_Credit_Card, Interest_Rate, Num_of_Loan, Type_of_Loan, Delay_from_due_date, Num_of_Delayed_Payment, Changed_Credit_Limit, Num_Credit_Inquiries, Credit_Mix, Outstanding_Debt, Credit_Utilization_Ratio, Credit_History_Age, Payment_of_Min_Amount, Total_EMI_per_month, Amount_invested_monthly, Payment_Behaviour, Monthly_Balance, TYPE]\n",
              "Index: []\n",
              "\n",
              "[0 rows x 28 columns]"
            ],
            "text/html": [
              "\n",
              "  <div id=\"df-6c748fc6-f0a0-48fb-86a3-c14a95dea8fd\">\n",
              "    <div class=\"colab-df-container\">\n",
              "      <div>\n",
              "<style scoped>\n",
              "    .dataframe tbody tr th:only-of-type {\n",
              "        vertical-align: middle;\n",
              "    }\n",
              "\n",
              "    .dataframe tbody tr th {\n",
              "        vertical-align: top;\n",
              "    }\n",
              "\n",
              "    .dataframe thead th {\n",
              "        text-align: right;\n",
              "    }\n",
              "</style>\n",
              "<table border=\"1\" class=\"dataframe\">\n",
              "  <thead>\n",
              "    <tr style=\"text-align: right;\">\n",
              "      <th></th>\n",
              "      <th>ID</th>\n",
              "      <th>Customer_ID</th>\n",
              "      <th>Month</th>\n",
              "      <th>Name</th>\n",
              "      <th>Age</th>\n",
              "      <th>SSN</th>\n",
              "      <th>Occupation</th>\n",
              "      <th>Annual_Income</th>\n",
              "      <th>Monthly_Inhand_Salary</th>\n",
              "      <th>Num_Bank_Accounts</th>\n",
              "      <th>...</th>\n",
              "      <th>Credit_Mix</th>\n",
              "      <th>Outstanding_Debt</th>\n",
              "      <th>Credit_Utilization_Ratio</th>\n",
              "      <th>Credit_History_Age</th>\n",
              "      <th>Payment_of_Min_Amount</th>\n",
              "      <th>Total_EMI_per_month</th>\n",
              "      <th>Amount_invested_monthly</th>\n",
              "      <th>Payment_Behaviour</th>\n",
              "      <th>Monthly_Balance</th>\n",
              "      <th>TYPE</th>\n",
              "    </tr>\n",
              "  </thead>\n",
              "  <tbody>\n",
              "  </tbody>\n",
              "</table>\n",
              "<p>0 rows × 28 columns</p>\n",
              "</div>\n",
              "      <button class=\"colab-df-convert\" onclick=\"convertToInteractive('df-6c748fc6-f0a0-48fb-86a3-c14a95dea8fd')\"\n",
              "              title=\"Convert this dataframe to an interactive table.\"\n",
              "              style=\"display:none;\">\n",
              "        \n",
              "  <svg xmlns=\"http://www.w3.org/2000/svg\" height=\"24px\"viewBox=\"0 0 24 24\"\n",
              "       width=\"24px\">\n",
              "    <path d=\"M0 0h24v24H0V0z\" fill=\"none\"/>\n",
              "    <path d=\"M18.56 5.44l.94 2.06.94-2.06 2.06-.94-2.06-.94-.94-2.06-.94 2.06-2.06.94zm-11 1L8.5 8.5l.94-2.06 2.06-.94-2.06-.94L8.5 2.5l-.94 2.06-2.06.94zm10 10l.94 2.06.94-2.06 2.06-.94-2.06-.94-.94-2.06-.94 2.06-2.06.94z\"/><path d=\"M17.41 7.96l-1.37-1.37c-.4-.4-.92-.59-1.43-.59-.52 0-1.04.2-1.43.59L10.3 9.45l-7.72 7.72c-.78.78-.78 2.05 0 2.83L4 21.41c.39.39.9.59 1.41.59.51 0 1.02-.2 1.41-.59l7.78-7.78 2.81-2.81c.8-.78.8-2.07 0-2.86zM5.41 20L4 18.59l7.72-7.72 1.47 1.35L5.41 20z\"/>\n",
              "  </svg>\n",
              "      </button>\n",
              "      \n",
              "  <style>\n",
              "    .colab-df-container {\n",
              "      display:flex;\n",
              "      flex-wrap:wrap;\n",
              "      gap: 12px;\n",
              "    }\n",
              "\n",
              "    .colab-df-convert {\n",
              "      background-color: #E8F0FE;\n",
              "      border: none;\n",
              "      border-radius: 50%;\n",
              "      cursor: pointer;\n",
              "      display: none;\n",
              "      fill: #1967D2;\n",
              "      height: 32px;\n",
              "      padding: 0 0 0 0;\n",
              "      width: 32px;\n",
              "    }\n",
              "\n",
              "    .colab-df-convert:hover {\n",
              "      background-color: #E2EBFA;\n",
              "      box-shadow: 0px 1px 2px rgba(60, 64, 67, 0.3), 0px 1px 3px 1px rgba(60, 64, 67, 0.15);\n",
              "      fill: #174EA6;\n",
              "    }\n",
              "\n",
              "    [theme=dark] .colab-df-convert {\n",
              "      background-color: #3B4455;\n",
              "      fill: #D2E3FC;\n",
              "    }\n",
              "\n",
              "    [theme=dark] .colab-df-convert:hover {\n",
              "      background-color: #434B5C;\n",
              "      box-shadow: 0px 1px 3px 1px rgba(0, 0, 0, 0.15);\n",
              "      filter: drop-shadow(0px 1px 2px rgba(0, 0, 0, 0.3));\n",
              "      fill: #FFFFFF;\n",
              "    }\n",
              "  </style>\n",
              "\n",
              "      <script>\n",
              "        const buttonEl =\n",
              "          document.querySelector('#df-6c748fc6-f0a0-48fb-86a3-c14a95dea8fd button.colab-df-convert');\n",
              "        buttonEl.style.display =\n",
              "          google.colab.kernel.accessAllowed ? 'block' : 'none';\n",
              "\n",
              "        async function convertToInteractive(key) {\n",
              "          const element = document.querySelector('#df-6c748fc6-f0a0-48fb-86a3-c14a95dea8fd');\n",
              "          const dataTable =\n",
              "            await google.colab.kernel.invokeFunction('convertToInteractive',\n",
              "                                                     [key], {});\n",
              "          if (!dataTable) return;\n",
              "\n",
              "          const docLinkHtml = 'Like what you see? Visit the ' +\n",
              "            '<a target=\"_blank\" href=https://colab.research.google.com/notebooks/data_table.ipynb>data table notebook</a>'\n",
              "            + ' to learn more about interactive tables.';\n",
              "          element.innerHTML = '';\n",
              "          dataTable['output_type'] = 'display_data';\n",
              "          await google.colab.output.renderOutput(dataTable, element);\n",
              "          const docLink = document.createElement('div');\n",
              "          docLink.innerHTML = docLinkHtml;\n",
              "          element.appendChild(docLink);\n",
              "        }\n",
              "      </script>\n",
              "    </div>\n",
              "  </div>\n",
              "  "
            ]
          },
          "metadata": {},
          "execution_count": 23
        }
      ],
      "source": [
        "df[(df['Type_of_Loan']==str(['NO LOANS']))&(df['Num_of_Loan']!=0)]"
      ]
    },
    {
      "cell_type": "code",
      "execution_count": 24,
      "id": "9bd9ee85",
      "metadata": {
        "id": "9bd9ee85"
      },
      "outputs": [],
      "source": [
        "df['Delay_from_due_date'].replace({-1:1,-2:2,-3:3,-4:4,-5:5},inplace=True)"
      ]
    },
    {
      "cell_type": "code",
      "execution_count": 25,
      "id": "22e40a68",
      "metadata": {
        "id": "22e40a68"
      },
      "outputs": [],
      "source": [
        "df['Num_of_Delayed_Payment']=df.groupby('SSN')['Num_of_Delayed_Payment'].transform(lambda x:x.mode()[0])\n",
        "df['Num_of_Delayed_Payment']=df['Num_of_Delayed_Payment'].astype(int)\n",
        "df['Num_of_Delayed_Payment'].replace({-1:1},inplace=True)"
      ]
    },
    {
      "cell_type": "code",
      "execution_count": 26,
      "id": "f1b43b9f",
      "metadata": {
        "id": "f1b43b9f"
      },
      "outputs": [],
      "source": [
        "df['Changed_Credit_Limit']=df.groupby('SSN')['Changed_Credit_Limit'].transform(lambda x:x.mode()[0])"
      ]
    },
    {
      "cell_type": "code",
      "execution_count": 27,
      "id": "6700c3d9",
      "metadata": {
        "id": "6700c3d9"
      },
      "outputs": [],
      "source": [
        "df['Num_Credit_Inquiries']=df.groupby('SSN')['Num_Credit_Inquiries'].transform(lambda x:x.mode()[0])"
      ]
    },
    {
      "cell_type": "code",
      "execution_count": 28,
      "id": "0a358a17",
      "metadata": {
        "id": "0a358a17"
      },
      "outputs": [],
      "source": [
        "df['Credit_Mix']=df.groupby('SSN')['Credit_Mix'].transform(lambda x:x.mode()[0])"
      ]
    },
    {
      "cell_type": "code",
      "execution_count": 29,
      "id": "1380110b",
      "metadata": {
        "id": "1380110b"
      },
      "outputs": [],
      "source": [
        "df['Outstanding_Debt']=df.groupby('SSN')['Outstanding_Debt'].transform(lambda x:x.mode()[0])"
      ]
    },
    {
      "cell_type": "code",
      "execution_count": 30,
      "id": "1f2cd27d",
      "metadata": {
        "id": "1f2cd27d"
      },
      "outputs": [],
      "source": [
        "df['Credit_Utilization_Ratio']=df.groupby('SSN')['Credit_Utilization_Ratio'].transform(lambda x:x.mode()[0])"
      ]
    },
    {
      "cell_type": "code",
      "execution_count": 31,
      "id": "db9addd4",
      "metadata": {
        "id": "db9addd4"
      },
      "outputs": [],
      "source": [
        "df['Credit_History_Age']=df.groupby('SSN')['Credit_History_Age'].transform(lambda x:x.mode()[0])"
      ]
    },
    {
      "cell_type": "code",
      "execution_count": 32,
      "id": "8bd7bb28",
      "metadata": {
        "id": "8bd7bb28"
      },
      "outputs": [],
      "source": [
        "df['Payment_of_Min_Amount']=df.groupby('SSN')['Payment_of_Min_Amount'].transform(lambda x:x.mode()[0])"
      ]
    },
    {
      "cell_type": "code",
      "execution_count": 33,
      "id": "46715625",
      "metadata": {
        "id": "46715625"
      },
      "outputs": [],
      "source": [
        "df['Total_EMI_per_month']=df.groupby('SSN')['Total_EMI_per_month'].transform(lambda x:x.mode()[0])"
      ]
    },
    {
      "cell_type": "code",
      "execution_count": 34,
      "id": "0bb618e7",
      "metadata": {
        "id": "0bb618e7"
      },
      "outputs": [],
      "source": [
        "df['Amount_invested_monthly']=df.groupby('SSN')['Amount_invested_monthly'].transform(lambda x:x.mode()[0])"
      ]
    },
    {
      "cell_type": "code",
      "execution_count": 35,
      "id": "87718b46",
      "metadata": {
        "id": "87718b46"
      },
      "outputs": [],
      "source": [
        "df['Payment_Behaviour']=df.groupby('SSN')['Payment_Behaviour'].transform(lambda x:x.mode()[0])"
      ]
    },
    {
      "cell_type": "code",
      "execution_count": 36,
      "id": "0f1945e8",
      "metadata": {
        "id": "0f1945e8"
      },
      "outputs": [],
      "source": [
        "df.Monthly_Balance=np.where(df.Monthly_Balance=='__-333333333333333333333333333__',np.NaN,df.Monthly_Balance)\n",
        "df['Monthly_Balance']=df.groupby('SSN')['Monthly_Balance'].transform(lambda x:x.fillna(x.median())).astype('float64')"
      ]
    },
    {
      "cell_type": "code",
      "execution_count": 37,
      "id": "8966992e",
      "metadata": {
        "id": "8966992e"
      },
      "outputs": [],
      "source": [
        "df['Name']=df.groupby('SSN')['Name'].transform(lambda x:x.mode()[0])"
      ]
    },
    {
      "cell_type": "code",
      "execution_count": 38,
      "id": "56b85611",
      "metadata": {
        "id": "56b85611"
      },
      "outputs": [],
      "source": [
        "df['Credit_History_Age']=df['Credit_History_Age'].transform(lambda x:float(x.split()[0]+'.'+ x.split()[3]))"
      ]
    },
    {
      "cell_type": "code",
      "execution_count": 39,
      "id": "a84af3d3",
      "metadata": {
        "id": "a84af3d3"
      },
      "outputs": [],
      "source": [
        "z=zip(df.Month.unique(),np.arange(1,13))\n",
        "d=dict(z)\n",
        "df['Month']=df['Month'].map(d)\n",
        "df['Month']=df['Month'].astype(object)"
      ]
    },
    {
      "cell_type": "code",
      "execution_count": 40,
      "id": "df74c00c",
      "metadata": {
        "id": "df74c00c"
      },
      "outputs": [],
      "source": [
        "df.Credit_Mix=np.where(df.Credit_Mix=='_',np.NaN,df.Credit_Mix)\n",
        "df.Credit_Mix=df.groupby('Num_Credit_Card')['Credit_Mix'].transform(lambda x:x.fillna(np.random.choice(['Good', 'Standard', 'Bad'])))"
      ]
    },
    {
      "cell_type": "code",
      "execution_count": 41,
      "id": "89f60597",
      "metadata": {
        "id": "89f60597"
      },
      "outputs": [],
      "source": [
        "df.Payment_of_Min_Amount=np.where(df.Payment_of_Min_Amount=='NM',np.NaN,df.Payment_of_Min_Amount)\n",
        "df.Payment_of_Min_Amount=df.groupby('SSN')['Payment_of_Min_Amount'].transform(lambda x:x.fillna(np.random.choice(['Yes','No'])))"
      ]
    },
    {
      "cell_type": "code",
      "execution_count": 42,
      "id": "a2e9f632",
      "metadata": {
        "id": "a2e9f632"
      },
      "outputs": [],
      "source": [
        "df.Changed_Credit_Limit=df.Changed_Credit_Limit.astype('float64')"
      ]
    },
    {
      "cell_type": "code",
      "execution_count": 43,
      "id": "1207570e",
      "metadata": {
        "id": "1207570e"
      },
      "outputs": [],
      "source": [
        "df.Num_Credit_Inquiries=df.Num_Credit_Inquiries.astype(int)"
      ]
    },
    {
      "cell_type": "code",
      "execution_count": 44,
      "id": "aa5294f6",
      "metadata": {
        "id": "aa5294f6"
      },
      "outputs": [],
      "source": [
        "df.Outstanding_Debt=df.Outstanding_Debt.astype('float64')\n",
        "df.Annual_Income=df.Annual_Income.astype('float64')"
      ]
    },
    {
      "cell_type": "code",
      "execution_count": 45,
      "id": "60e8bbae",
      "metadata": {
        "id": "60e8bbae"
      },
      "outputs": [],
      "source": [
        "df['Amount_invested_monthly']=np.where((df.Amount_invested_monthly=='__10000__'),10000,df.Amount_invested_monthly)"
      ]
    },
    {
      "cell_type": "code",
      "execution_count": 46,
      "id": "5b9953da",
      "metadata": {
        "id": "5b9953da"
      },
      "outputs": [],
      "source": [
        "df['Amount_invested_monthly']=df['Amount_invested_monthly'].astype('float64')\n",
        "df.Changed_Credit_Limit=df['Changed_Credit_Limit'].astype('float64')"
      ]
    },
    {
      "cell_type": "code",
      "execution_count": 47,
      "id": "1b399c2f",
      "metadata": {
        "id": "1b399c2f",
        "outputId": "c7889430-7335-43a8-b90b-fc5f442a8a05",
        "colab": {
          "base_uri": "https://localhost:8080/"
        }
      },
      "outputs": [
        {
          "output_type": "stream",
          "name": "stdout",
          "text": [
            "<class 'pandas.core.frame.DataFrame'>\n",
            "RangeIndex: 150000 entries, 0 to 149999\n",
            "Data columns (total 28 columns):\n",
            " #   Column                    Non-Null Count   Dtype  \n",
            "---  ------                    --------------   -----  \n",
            " 0   ID                        150000 non-null  object \n",
            " 1   Customer_ID               150000 non-null  object \n",
            " 2   Month                     150000 non-null  object \n",
            " 3   Name                      150000 non-null  object \n",
            " 4   Age                       150000 non-null  float64\n",
            " 5   SSN                       150000 non-null  object \n",
            " 6   Occupation                150000 non-null  object \n",
            " 7   Annual_Income             150000 non-null  float64\n",
            " 8   Monthly_Inhand_Salary     150000 non-null  float64\n",
            " 9   Num_Bank_Accounts         150000 non-null  int64  \n",
            " 10  Num_Credit_Card           150000 non-null  int64  \n",
            " 11  Interest_Rate             150000 non-null  int64  \n",
            " 12  Num_of_Loan               150000 non-null  int64  \n",
            " 13  Type_of_Loan              150000 non-null  object \n",
            " 14  Delay_from_due_date       150000 non-null  int64  \n",
            " 15  Num_of_Delayed_Payment    150000 non-null  int64  \n",
            " 16  Changed_Credit_Limit      150000 non-null  float64\n",
            " 17  Num_Credit_Inquiries      150000 non-null  int64  \n",
            " 18  Credit_Mix                150000 non-null  object \n",
            " 19  Outstanding_Debt          150000 non-null  float64\n",
            " 20  Credit_Utilization_Ratio  150000 non-null  float64\n",
            " 21  Credit_History_Age        150000 non-null  float64\n",
            " 22  Payment_of_Min_Amount     150000 non-null  object \n",
            " 23  Total_EMI_per_month       150000 non-null  float64\n",
            " 24  Amount_invested_monthly   150000 non-null  float64\n",
            " 25  Payment_Behaviour         150000 non-null  object \n",
            " 26  Monthly_Balance           150000 non-null  float64\n",
            " 27  TYPE                      150000 non-null  object \n",
            "dtypes: float64(10), int64(7), object(11)\n",
            "memory usage: 32.0+ MB\n"
          ]
        }
      ],
      "source": [
        "df.Monthly_Balance=df.Monthly_Balance.astype('float64')\n",
        "df.info()"
      ]
    },
    {
      "cell_type": "code",
      "execution_count": 48,
      "id": "5c681a85",
      "metadata": {
        "id": "5c681a85"
      },
      "outputs": [],
      "source": [
        "dftr=df[df['TYPE']=='TRAIN'].iloc[:,:-1]\n",
        "dftst=df[df['TYPE']=='TEST'].iloc[:,:-1]\n",
        "import scipy.stats as stats"
      ]
    },
    {
      "cell_type": "code",
      "execution_count": 49,
      "id": "72edb591",
      "metadata": {
        "id": "72edb591",
        "outputId": "8573e380-834c-4796-a009-8dbfdfe14e32",
        "colab": {
          "base_uri": "https://localhost:8080/"
        }
      },
      "outputs": [
        {
          "output_type": "stream",
          "name": "stdout",
          "text": [
            "0.0\n"
          ]
        },
        {
          "output_type": "execute_result",
          "data": {
            "text/plain": [
              "KruskalResult(statistic=4344.371525470604, pvalue=0.0)"
            ]
          },
          "metadata": {},
          "execution_count": 49
        }
      ],
      "source": [
        "#1. Check whether the Annual income across all the target variables is significantly the\n",
        "#same. Let's fix the alpha is 0.05. Make sure the data is normal and the variance is\n",
        "#equal. If not use a Non-parametric statistical test\n",
        "# hypothesis\n",
        "# H0: Data is having equal variance\n",
        "# H1: Data is not having  equal variance\n",
        "# SHAPIRO TEST\n",
        "#stats.shapiro(sample-1) shapiro will take 1 sample at a time\n",
        "test_stat,p_val=stats.shapiro(dftr['Annual_Income'])\n",
        "print(p_val)\n",
        "p_val<.05 #95% confidence level sig_level is 0.05\n",
        "#reject null hypothesis\n",
        "#data is  skewed and it is not normal\n",
        "dft=pd.concat([dftr,y],axis=1)\n",
        "stats.kruskal(dft[dft.Credit_Score==0].Annual_Income,dft[dft.Credit_Score==1].Annual_Income,dft[dft.Credit_Score==2].Annual_Income)\n",
        "#p<0.05 failed to reject null and can say that the variables are in significant"
      ]
    },
    {
      "cell_type": "code",
      "execution_count": 50,
      "id": "78c3d7be",
      "metadata": {
        "id": "78c3d7be",
        "outputId": "b68b5563-d5e6-457b-dfad-ad40fbcc1e27",
        "colab": {
          "base_uri": "https://localhost:8080/"
        }
      },
      "outputs": [
        {
          "output_type": "execute_result",
          "data": {
            "text/plain": [
              "Chi2ContingencyResult(statistic=1960.5859186941195, pvalue=0.0, dof=10, expected_freq=array([[ 6019.9848 , 11038.9224 ,  3701.0928 ],\n",
              "       [ 7270.37856, 13331.78528,  4469.83616],\n",
              "       [ 1828.03392,  3352.08896,  1123.87712],\n",
              "       [ 1368.7056 ,  2509.8128 ,   841.4816 ],\n",
              "       [ 2368.55664,  4343.25232,  1456.19104],\n",
              "       [10142.34048, 18598.13824,  6235.52128]]))"
            ]
          },
          "metadata": {},
          "execution_count": 50
        }
      ],
      "source": [
        "import scipy.stats as stats\n",
        "stats.chi2_contingency(pd.crosstab(df.Payment_Behaviour,y.Credit_Score))\n",
        "#p<0.05 failed to reject null and can say that the variables are in significant"
      ]
    },
    {
      "cell_type": "code",
      "execution_count": 51,
      "id": "cfb8e425",
      "metadata": {
        "id": "cfb8e425",
        "outputId": "d6fac821-541a-4639-a7c7-4342d57e6a61",
        "colab": {
          "base_uri": "https://localhost:8080/"
        }
      },
      "outputs": [
        {
          "output_type": "execute_result",
          "data": {
            "text/plain": [
              "F_onewayResult(statistic=688.2267177762827, pvalue=1.397568552110873e-297)"
            ]
          },
          "metadata": {},
          "execution_count": 51
        }
      ],
      "source": [
        "dft=pd.concat([dftr,y],axis=1)\n",
        "stats.f_oneway(dft[dft.Credit_Score==0].Credit_Utilization_Ratio,dft[dft.Credit_Score==1].Credit_Utilization_Ratio,dft[dft.Credit_Score==2].Credit_Utilization_Ratio)\n",
        "#pvalue is less than 0.05 we reject null and can say that the variables are in significant"
      ]
    },
    {
      "cell_type": "code",
      "execution_count": 52,
      "id": "c5b58173",
      "metadata": {
        "id": "c5b58173",
        "outputId": "3d107a41-291e-4273-fb86-b0d5abecec3c",
        "colab": {
          "base_uri": "https://localhost:8080/"
        }
      },
      "outputs": [
        {
          "output_type": "execute_result",
          "data": {
            "text/plain": [
              "Chi2ContingencyResult(statistic=180.6858883951274, pvalue=2.9071037475037877e-24, dof=28, expected_freq=array([[1955.62512, 3586.05456, 1202.32032],\n",
              "       [1978.82352, 3628.59376, 1216.58272],\n",
              "       [1948.6656 , 3573.2928 , 1198.0416 ],\n",
              "       [1904.58864, 3492.46832, 1170.94304],\n",
              "       [1990.42272, 3649.86336, 1223.71392],\n",
              "       [1927.78704, 3535.00752, 1185.20544],\n",
              "       [1895.30928, 3475.45264, 1165.23808],\n",
              "       [2057.69808, 3773.22704, 1265.07488],\n",
              "       [1865.15136, 3420.15168, 1146.69696],\n",
              "       [1964.90448, 3603.07024, 1208.02528],\n",
              "       [1948.6656 , 3573.2928 , 1198.0416 ],\n",
              "       [1841.95296, 3377.61248, 1132.43456],\n",
              "       [1955.62512, 3586.05456, 1202.32032],\n",
              "       [1934.74656, 3547.76928, 1189.48416],\n",
              "       [1828.03392, 3352.08896, 1123.87712]]))"
            ]
          },
          "metadata": {},
          "execution_count": 52
        }
      ],
      "source": [
        "stats.chi2_contingency(pd.crosstab(df.Occupation,y.Credit_Score))\n",
        "#pvalue is less than 0.05 we reject null and can say that the variables are in significant"
      ]
    },
    {
      "cell_type": "code",
      "execution_count": 53,
      "id": "9e182ccd",
      "metadata": {
        "id": "9e182ccd"
      },
      "outputs": [],
      "source": [
        "dftr=df[df['TYPE']=='TRAIN'].iloc[:,:-1]\n"
      ]
    },
    {
      "cell_type": "code",
      "execution_count": 54,
      "id": "19f025a3",
      "metadata": {
        "id": "19f025a3"
      },
      "outputs": [],
      "source": [
        "dftst=df[df['TYPE']=='TEST'].iloc[:,:-1].reset_index(drop=True)"
      ]
    },
    {
      "cell_type": "code",
      "execution_count": 55,
      "id": "ba2abd8b",
      "metadata": {
        "id": "ba2abd8b"
      },
      "outputs": [],
      "source": [
        "dfnum=dftr.select_dtypes(include=np.number)\n",
        "dfcat=dftr.select_dtypes(exclude=np.number)"
      ]
    },
    {
      "cell_type": "code",
      "execution_count": 56,
      "id": "af63dcd9",
      "metadata": {
        "id": "af63dcd9"
      },
      "outputs": [],
      "source": [
        "import seaborn as sns\n",
        "import matplotlib.pyplot as plt"
      ]
    },
    {
      "cell_type": "code",
      "execution_count": 57,
      "id": "22e8ddb4",
      "metadata": {
        "id": "22e8ddb4",
        "outputId": "44ef12fb-efb6-46fd-e255-808782ec32e3",
        "colab": {
          "base_uri": "https://localhost:8080/",
          "height": 715
        }
      },
      "outputs": [
        {
          "output_type": "display_data",
          "data": {
            "text/plain": [
              "<Figure size 1080x864 with 18 Axes>"
            ],
            "image/png": "[encoded data removed]"
          },
          "metadata": {
            "needs_background": "light"
          }
        }
      ],
      "source": [
        "fig,ax=plt.subplots(3,6,figsize=(15,12))\n",
        "for i,subplots in zip(dfnum.columns,ax.flatten()):\n",
        "    sns.boxplot(dfnum[i],ax=subplots)"
      ]
    },
    {
      "cell_type": "code",
      "execution_count": 58,
      "id": "b35a1e74",
      "metadata": {
        "id": "b35a1e74"
      },
      "outputs": [],
      "source": [
        "dfuc=dfcat[['Credit_Mix','Payment_of_Min_Amount','Payment_Behaviour']]"
      ]
    },
    {
      "cell_type": "code",
      "execution_count": 59,
      "id": "d67ff499",
      "metadata": {
        "id": "d67ff499",
        "outputId": "f3823022-e500-49a5-fdb2-6cc854cb258b",
        "colab": {
          "base_uri": "https://localhost:8080/",
          "height": 487
        }
      },
      "outputs": [
        {
          "output_type": "execute_result",
          "data": {
            "text/plain": [
              "       Credit_Mix_Good  Credit_Mix_Standard  Payment_of_Min_Amount_Yes  \\\n",
              "0                    1                    0                          0   \n",
              "1                    1                    0                          0   \n",
              "2                    1                    0                          0   \n",
              "3                    1                    0                          0   \n",
              "4                    1                    0                          0   \n",
              "...                ...                  ...                        ...   \n",
              "99995                1                    0                          0   \n",
              "99996                1                    0                          0   \n",
              "99997                1                    0                          0   \n",
              "99998                1                    0                          0   \n",
              "99999                1                    0                          0   \n",
              "\n",
              "       Payment_Behaviour_High_spent_Medium_value_payments  \\\n",
              "0                                                      1    \n",
              "1                                                      1    \n",
              "2                                                      1    \n",
              "3                                                      1    \n",
              "4                                                      1    \n",
              "...                                                  ...    \n",
              "99995                                                  0    \n",
              "99996                                                  0    \n",
              "99997                                                  0    \n",
              "99998                                                  0    \n",
              "99999                                                  0    \n",
              "\n",
              "       Payment_Behaviour_High_spent_Small_value_payments  \\\n",
              "0                                                      0   \n",
              "1                                                      0   \n",
              "2                                                      0   \n",
              "3                                                      0   \n",
              "4                                                      0   \n",
              "...                                                  ...   \n",
              "99995                                                  0   \n",
              "99996                                                  0   \n",
              "99997                                                  0   \n",
              "99998                                                  0   \n",
              "99999                                                  0   \n",
              "\n",
              "       Payment_Behaviour_Low_spent_Large_value_payments  \\\n",
              "0                                                     0   \n",
              "1                                                     0   \n",
              "2                                                     0   \n",
              "3                                                     0   \n",
              "4                                                     0   \n",
              "...                                                 ...   \n",
              "99995                                                 0   \n",
              "99996                                                 0   \n",
              "99997                                                 0   \n",
              "99998                                                 0   \n",
              "99999                                                 0   \n",
              "\n",
              "       Payment_Behaviour_Low_spent_Medium_value_payments  \\\n",
              "0                                                      0   \n",
              "1                                                      0   \n",
              "2                                                      0   \n",
              "3                                                      0   \n",
              "4                                                      0   \n",
              "...                                                  ...   \n",
              "99995                                                  0   \n",
              "99996                                                  0   \n",
              "99997                                                  0   \n",
              "99998                                                  0   \n",
              "99999                                                  0   \n",
              "\n",
              "       Payment_Behaviour_Low_spent_Small_value_payments  \n",
              "0                                                     0  \n",
              "1                                                     0  \n",
              "2                                                     0  \n",
              "3                                                     0  \n",
              "4                                                     0  \n",
              "...                                                 ...  \n",
              "99995                                                 0  \n",
              "99996                                                 0  \n",
              "99997                                                 0  \n",
              "99998                                                 0  \n",
              "99999                                                 0  \n",
              "\n",
              "[100000 rows x 8 columns]"
            ],
            "text/html": [
              "\n",
              "  <div id=\"df-643a3dd0-979d-4d7b-b301-2e440721b1de\">\n",
              "    <div class=\"colab-df-container\">\n",
              "      <div>\n",
              "<style scoped>\n",
              "    .dataframe tbody tr th:only-of-type {\n",
              "        vertical-align: middle;\n",
              "    }\n",
              "\n",
              "    .dataframe tbody tr th {\n",
              "        vertical-align: top;\n",
              "    }\n",
              "\n",
              "    .dataframe thead th {\n",
              "        text-align: right;\n",
              "    }\n",
              "</style>\n",
              "<table border=\"1\" class=\"dataframe\">\n",
              "  <thead>\n",
              "    <tr style=\"text-align: right;\">\n",
              "      <th></th>\n",
              "      <th>Credit_Mix_Good</th>\n",
              "      <th>Credit_Mix_Standard</th>\n",
              "      <th>Payment_of_Min_Amount_Yes</th>\n",
              "      <th>Payment_Behaviour_High_spent_Medium_value_payments</th>\n",
              "      <th>Payment_Behaviour_High_spent_Small_value_payments</th>\n",
              "      <th>Payment_Behaviour_Low_spent_Large_value_payments</th>\n",
              "      <th>Payment_Behaviour_Low_spent_Medium_value_payments</th>\n",
              "      <th>Payment_Behaviour_Low_spent_Small_value_payments</th>\n",
              "    </tr>\n",
              "  </thead>\n",
              "  <tbody>\n",
              "    <tr>\n",
              "      <th>0</th>\n",
              "      <td>1</td>\n",
              "      <td>0</td>\n",
              "      <td>0</td>\n",
              "      <td>1</td>\n",
              "      <td>0</td>\n",
              "      <td>0</td>\n",
              "      <td>0</td>\n",
              "      <td>0</td>\n",
              "    </tr>\n",
              "    <tr>\n",
              "      <th>1</th>\n",
              "      <td>1</td>\n",
              "      <td>0</td>\n",
              "      <td>0</td>\n",
              "      <td>1</td>\n",
              "      <td>0</td>\n",
              "      <td>0</td>\n",
              "      <td>0</td>\n",
              "      <td>0</td>\n",
              "    </tr>\n",
              "    <tr>\n",
              "      <th>2</th>\n",
              "      <td>1</td>\n",
              "      <td>0</td>\n",
              "      <td>0</td>\n",
              "      <td>1</td>\n",
              "      <td>0</td>\n",
              "      <td>0</td>\n",
              "      <td>0</td>\n",
              "      <td>0</td>\n",
              "    </tr>\n",
              "    <tr>\n",
              "      <th>3</th>\n",
              "      <td>1</td>\n",
              "      <td>0</td>\n",
              "      <td>0</td>\n",
              "      <td>1</td>\n",
              "      <td>0</td>\n",
              "      <td>0</td>\n",
              "      <td>0</td>\n",
              "      <td>0</td>\n",
              "    </tr>\n",
              "    <tr>\n",
              "      <th>4</th>\n",
              "      <td>1</td>\n",
              "      <td>0</td>\n",
              "      <td>0</td>\n",
              "      <td>1</td>\n",
              "      <td>0</td>\n",
              "      <td>0</td>\n",
              "      <td>0</td>\n",
              "      <td>0</td>\n",
              "    </tr>\n",
              "    <tr>\n",
              "      <th>...</th>\n",
              "      <td>...</td>\n",
              "      <td>...</td>\n",
              "      <td>...</td>\n",
              "      <td>...</td>\n",
              "      <td>...</td>\n",
              "      <td>...</td>\n",
              "      <td>...</td>\n",
              "      <td>...</td>\n",
              "    </tr>\n",
              "    <tr>\n",
              "      <th>99995</th>\n",
              "      <td>1</td>\n",
              "      <td>0</td>\n",
              "      <td>0</td>\n",
              "      <td>0</td>\n",
              "      <td>0</td>\n",
              "      <td>0</td>\n",
              "      <td>0</td>\n",
              "      <td>0</td>\n",
              "    </tr>\n",
              "    <tr>\n",
              "      <th>99996</th>\n",
              "      <td>1</td>\n",
              "      <td>0</td>\n",
              "      <td>0</td>\n",
              "      <td>0</td>\n",
              "      <td>0</td>\n",
              "      <td>0</td>\n",
              "      <td>0</td>\n",
              "      <td>0</td>\n",
              "    </tr>\n",
              "    <tr>\n",
              "      <th>99997</th>\n",
              "      <td>1</td>\n",
              "      <td>0</td>\n",
              "      <td>0</td>\n",
              "      <td>0</td>\n",
              "      <td>0</td>\n",
              "      <td>0</td>\n",
              "      <td>0</td>\n",
              "      <td>0</td>\n",
              "    </tr>\n",
              "    <tr>\n",
              "      <th>99998</th>\n",
              "      <td>1</td>\n",
              "      <td>0</td>\n",
              "      <td>0</td>\n",
              "      <td>0</td>\n",
              "      <td>0</td>\n",
              "      <td>0</td>\n",
              "      <td>0</td>\n",
              "      <td>0</td>\n",
              "    </tr>\n",
              "    <tr>\n",
              "      <th>99999</th>\n",
              "      <td>1</td>\n",
              "      <td>0</td>\n",
              "      <td>0</td>\n",
              "      <td>0</td>\n",
              "      <td>0</td>\n",
              "      <td>0</td>\n",
              "      <td>0</td>\n",
              "      <td>0</td>\n",
              "    </tr>\n",
              "  </tbody>\n",
              "</table>\n",
              "<p>100000 rows × 8 columns</p>\n",
              "</div>\n",
              "      <button class=\"colab-df-convert\" onclick=\"convertToInteractive('df-643a3dd0-979d-4d7b-b301-2e440721b1de')\"\n",
              "              title=\"Convert this dataframe to an interactive table.\"\n",
              "              style=\"display:none;\">\n",
              "        \n",
              "  <svg xmlns=\"http://www.w3.org/2000/svg\" height=\"24px\"viewBox=\"0 0 24 24\"\n",
              "       width=\"24px\">\n",
              "    <path d=\"M0 0h24v24H0V0z\" fill=\"none\"/>\n",
              "    <path d=\"M18.56 5.44l.94 2.06.94-2.06 2.06-.94-2.06-.94-.94-2.06-.94 2.06-2.06.94zm-11 1L8.5 8.5l.94-2.06 2.06-.94-2.06-.94L8.5 2.5l-.94 2.06-2.06.94zm10 10l.94 2.06.94-2.06 2.06-.94-2.06-.94-.94-2.06-.94 2.06-2.06.94z\"/><path d=\"M17.41 7.96l-1.37-1.37c-.4-.4-.92-.59-1.43-.59-.52 0-1.04.2-1.43.59L10.3 9.45l-7.72 7.72c-.78.78-.78 2.05 0 2.83L4 21.41c.39.39.9.59 1.41.59.51 0 1.02-.2 1.41-.59l7.78-7.78 2.81-2.81c.8-.78.8-2.07 0-2.86zM5.41 20L4 18.59l7.72-7.72 1.47 1.35L5.41 20z\"/>\n",
              "  </svg>\n",
              "      </button>\n",
              "      \n",
              "  <style>\n",
              "    .colab-df-container {\n",
              "      display:flex;\n",
              "      flex-wrap:wrap;\n",
              "      gap: 12px;\n",
              "    }\n",
              "\n",
              "    .colab-df-convert {\n",
              "      background-color: #E8F0FE;\n",
              "      border: none;\n",
              "      border-radius: 50%;\n",
              "      cursor: pointer;\n",
              "      display: none;\n",
              "      fill: #1967D2;\n",
              "      height: 32px;\n",
              "      padding: 0 0 0 0;\n",
              "      width: 32px;\n",
              "    }\n",
              "\n",
              "    .colab-df-convert:hover {\n",
              "      background-color: #E2EBFA;\n",
              "      box-shadow: 0px 1px 2px rgba(60, 64, 67, 0.3), 0px 1px 3px 1px rgba(60, 64, 67, 0.15);\n",
              "      fill: #174EA6;\n",
              "    }\n",
              "\n",
              "    [theme=dark] .colab-df-convert {\n",
              "      background-color: #3B4455;\n",
              "      fill: #D2E3FC;\n",
              "    }\n",
              "\n",
              "    [theme=dark] .colab-df-convert:hover {\n",
              "      background-color: #434B5C;\n",
              "      box-shadow: 0px 1px 3px 1px rgba(0, 0, 0, 0.15);\n",
              "      filter: drop-shadow(0px 1px 2px rgba(0, 0, 0, 0.3));\n",
              "      fill: #FFFFFF;\n",
              "    }\n",
              "  </style>\n",
              "\n",
              "      <script>\n",
              "        const buttonEl =\n",
              "          document.querySelector('#df-643a3dd0-979d-4d7b-b301-2e440721b1de button.colab-df-convert');\n",
              "        buttonEl.style.display =\n",
              "          google.colab.kernel.accessAllowed ? 'block' : 'none';\n",
              "\n",
              "        async function convertToInteractive(key) {\n",
              "          const element = document.querySelector('#df-643a3dd0-979d-4d7b-b301-2e440721b1de');\n",
              "          const dataTable =\n",
              "            await google.colab.kernel.invokeFunction('convertToInteractive',\n",
              "                                                     [key], {});\n",
              "          if (!dataTable) return;\n",
              "\n",
              "          const docLinkHtml = 'Like what you see? Visit the ' +\n",
              "            '<a target=\"_blank\" href=https://colab.research.google.com/notebooks/data_table.ipynb>data table notebook</a>'\n",
              "            + ' to learn more about interactive tables.';\n",
              "          element.innerHTML = '';\n",
              "          dataTable['output_type'] = 'display_data';\n",
              "          await google.colab.output.renderOutput(dataTable, element);\n",
              "          const docLink = document.createElement('div');\n",
              "          docLink.innerHTML = docLinkHtml;\n",
              "          element.appendChild(docLink);\n",
              "        }\n",
              "      </script>\n",
              "    </div>\n",
              "  </div>\n",
              "  "
            ]
          },
          "metadata": {},
          "execution_count": 59
        }
      ],
      "source": [
        "dfuc=pd.get_dummies(dfuc,drop_first=True)\n",
        "dfuc"
      ]
    },
    {
      "cell_type": "code",
      "execution_count": 60,
      "id": "a6790c84",
      "metadata": {
        "id": "a6790c84"
      },
      "outputs": [],
      "source": [
        "from sklearn.preprocessing import StandardScaler\n",
        "ss=StandardScaler()\n",
        "dfsn=ss.fit_transform(dfnum)\n",
        "dfsn=pd.DataFrame(dfsn,columns=dfnum.columns)"
      ]
    },
    {
      "cell_type": "code",
      "execution_count": 60,
      "id": "2f359a56",
      "metadata": {
        "id": "2f359a56"
      },
      "outputs": [],
      "source": []
    },
    {
      "cell_type": "code",
      "execution_count": 61,
      "id": "2179e2d1",
      "metadata": {
        "id": "2179e2d1",
        "outputId": "6bcb11fc-bac8-4cfc-cabf-ae0b4d249d36",
        "colab": {
          "base_uri": "https://localhost:8080/",
          "height": 487
        }
      },
      "outputs": [
        {
          "output_type": "execute_result",
          "data": {
            "text/plain": [
              "            Age  Annual_Income  Monthly_Inhand_Salary  Num_Bank_Accounts  \\\n",
              "0     -0.908465      -0.819625              -0.743748          -0.912592   \n",
              "1     -0.908465      -0.819625              -0.743748          -0.912592   \n",
              "2     -0.908465      -0.819625              -0.743748          -0.912592   \n",
              "3     -0.908465      -0.819625              -0.743748          -0.912592   \n",
              "4     -0.908465      -0.819625              -0.743748          -0.912592   \n",
              "...         ...            ...                    ...                ...   \n",
              "99995 -0.815556      -0.283978              -0.261460          -0.527063   \n",
              "99996 -0.815556      -0.283978              -0.261460          -0.527063   \n",
              "99997 -0.815556      -0.283978              -0.261460          -0.527063   \n",
              "99998 -0.815556      -0.283978              -0.261460          -0.527063   \n",
              "99999 -0.815556      -0.283978              -0.261460          -0.527063   \n",
              "\n",
              "       Num_Credit_Card  Interest_Rate  Num_of_Loan  Delay_from_due_date  \\\n",
              "0            -0.143150      -1.319266     0.190946            -1.220763   \n",
              "1            -0.143150      -1.319266     0.190946            -1.355691   \n",
              "2            -0.143150      -1.319266     0.190946            -1.220763   \n",
              "3            -0.143150      -1.319266     0.190946            -1.085835   \n",
              "4            -0.143150      -1.319266     0.190946            -1.018371   \n",
              "...                ...            ...          ...                  ...   \n",
              "99995        -0.127653      -0.861667    -0.626600             0.128516   \n",
              "99996        -0.127653      -0.861667    -0.626600            -0.208804   \n",
              "99997        -0.127653      -0.861667    -0.626600             0.398372   \n",
              "99998        -0.127653      -0.861667    -0.626600            -0.073876   \n",
              "99999        -0.127653      -0.861667    -0.626600            -0.208804   \n",
              "\n",
              "       Num_of_Delayed_Payment  Changed_Credit_Limit  ...  \\\n",
              "0                   -1.503863              0.134322  ...   \n",
              "1                   -1.503863              0.134322  ...   \n",
              "2                   -1.503863              0.134322  ...   \n",
              "3                   -1.503863              0.134322  ...   \n",
              "4                   -1.503863              0.134322  ...   \n",
              "...                       ...                   ...  ...   \n",
              "99995               -1.180610              0.169652  ...   \n",
              "99996               -1.180610              0.169652  ...   \n",
              "99997               -1.180610              0.169652  ...   \n",
              "99998               -1.180610              0.169652  ...   \n",
              "99999               -1.180610              0.169652  ...   \n",
              "\n",
              "       Amount_invested_monthly  Monthly_Balance  Credit_Mix_Good  \\\n",
              "0                    -0.337497        -0.424827                1   \n",
              "1                    -0.337497        -0.554806                1   \n",
              "2                    -0.337497        -0.337525                1   \n",
              "3                    -0.337497        -0.840177                1   \n",
              "4                    -0.337497        -0.289575                1   \n",
              "...                        ...              ...              ...   \n",
              "99995                -0.329758         0.355901                1   \n",
              "99996                -0.329758         0.434198                1   \n",
              "99997                -0.329758         0.528225                1   \n",
              "99998                -0.329758        -0.393709                1   \n",
              "99999                -0.329758        -0.046155                1   \n",
              "\n",
              "       Credit_Mix_Standard  Payment_of_Min_Amount_Yes  \\\n",
              "0                        0                          0   \n",
              "1                        0                          0   \n",
              "2                        0                          0   \n",
              "3                        0                          0   \n",
              "4                        0                          0   \n",
              "...                    ...                        ...   \n",
              "99995                    0                          0   \n",
              "99996                    0                          0   \n",
              "99997                    0                          0   \n",
              "99998                    0                          0   \n",
              "99999                    0                          0   \n",
              "\n",
              "       Payment_Behaviour_High_spent_Medium_value_payments  \\\n",
              "0                                                      1    \n",
              "1                                                      1    \n",
              "2                                                      1    \n",
              "3                                                      1    \n",
              "4                                                      1    \n",
              "...                                                  ...    \n",
              "99995                                                  0    \n",
              "99996                                                  0    \n",
              "99997                                                  0    \n",
              "99998                                                  0    \n",
              "99999                                                  0    \n",
              "\n",
              "       Payment_Behaviour_High_spent_Small_value_payments  \\\n",
              "0                                                      0   \n",
              "1                                                      0   \n",
              "2                                                      0   \n",
              "3                                                      0   \n",
              "4                                                      0   \n",
              "...                                                  ...   \n",
              "99995                                                  0   \n",
              "99996                                                  0   \n",
              "99997                                                  0   \n",
              "99998                                                  0   \n",
              "99999                                                  0   \n",
              "\n",
              "       Payment_Behaviour_Low_spent_Large_value_payments  \\\n",
              "0                                                     0   \n",
              "1                                                     0   \n",
              "2                                                     0   \n",
              "3                                                     0   \n",
              "4                                                     0   \n",
              "...                                                 ...   \n",
              "99995                                                 0   \n",
              "99996                                                 0   \n",
              "99997                                                 0   \n",
              "99998                                                 0   \n",
              "99999                                                 0   \n",
              "\n",
              "       Payment_Behaviour_Low_spent_Medium_value_payments  \\\n",
              "0                                                      0   \n",
              "1                                                      0   \n",
              "2                                                      0   \n",
              "3                                                      0   \n",
              "4                                                      0   \n",
              "...                                                  ...   \n",
              "99995                                                  0   \n",
              "99996                                                  0   \n",
              "99997                                                  0   \n",
              "99998                                                  0   \n",
              "99999                                                  0   \n",
              "\n",
              "       Payment_Behaviour_Low_spent_Small_value_payments  \n",
              "0                                                     0  \n",
              "1                                                     0  \n",
              "2                                                     0  \n",
              "3                                                     0  \n",
              "4                                                     0  \n",
              "...                                                 ...  \n",
              "99995                                                 0  \n",
              "99996                                                 0  \n",
              "99997                                                 0  \n",
              "99998                                                 0  \n",
              "99999                                                 0  \n",
              "\n",
              "[100000 rows x 25 columns]"
            ],
            "text/html": [
              "\n",
              "  <div id=\"df-ae579d2e-d66c-4959-b75e-236c276eceb9\">\n",
              "    <div class=\"colab-df-container\">\n",
              "      <div>\n",
              "<style scoped>\n",
              "    .dataframe tbody tr th:only-of-type {\n",
              "        vertical-align: middle;\n",
              "    }\n",
              "\n",
              "    .dataframe tbody tr th {\n",
              "        vertical-align: top;\n",
              "    }\n",
              "\n",
              "    .dataframe thead th {\n",
              "        text-align: right;\n",
              "    }\n",
              "</style>\n",
              "<table border=\"1\" class=\"dataframe\">\n",
              "  <thead>\n",
              "    <tr style=\"text-align: right;\">\n",
              "      <th></th>\n",
              "      <th>Age</th>\n",
              "      <th>Annual_Income</th>\n",
              "      <th>Monthly_Inhand_Salary</th>\n",
              "      <th>Num_Bank_Accounts</th>\n",
              "      <th>Num_Credit_Card</th>\n",
              "      <th>Interest_Rate</th>\n",
              "      <th>Num_of_Loan</th>\n",
              "      <th>Delay_from_due_date</th>\n",
              "      <th>Num_of_Delayed_Payment</th>\n",
              "      <th>Changed_Credit_Limit</th>\n",
              "      <th>...</th>\n",
              "      <th>Amount_invested_monthly</th>\n",
              "      <th>Monthly_Balance</th>\n",
              "      <th>Credit_Mix_Good</th>\n",
              "      <th>Credit_Mix_Standard</th>\n",
              "      <th>Payment_of_Min_Amount_Yes</th>\n",
              "      <th>Payment_Behaviour_High_spent_Medium_value_payments</th>\n",
              "      <th>Payment_Behaviour_High_spent_Small_value_payments</th>\n",
              "      <th>Payment_Behaviour_Low_spent_Large_value_payments</th>\n",
              "      <th>Payment_Behaviour_Low_spent_Medium_value_payments</th>\n",
              "      <th>Payment_Behaviour_Low_spent_Small_value_payments</th>\n",
              "    </tr>\n",
              "  </thead>\n",
              "  <tbody>\n",
              "    <tr>\n",
              "      <th>0</th>\n",
              "      <td>-0.908465</td>\n",
              "      <td>-0.819625</td>\n",
              "      <td>-0.743748</td>\n",
              "      <td>-0.912592</td>\n",
              "      <td>-0.143150</td>\n",
              "      <td>-1.319266</td>\n",
              "      <td>0.190946</td>\n",
              "      <td>-1.220763</td>\n",
              "      <td>-1.503863</td>\n",
              "      <td>0.134322</td>\n",
              "      <td>...</td>\n",
              "      <td>-0.337497</td>\n",
              "      <td>-0.424827</td>\n",
              "      <td>1</td>\n",
              "      <td>0</td>\n",
              "      <td>0</td>\n",
              "      <td>1</td>\n",
              "      <td>0</td>\n",
              "      <td>0</td>\n",
              "      <td>0</td>\n",
              "      <td>0</td>\n",
              "    </tr>\n",
              "    <tr>\n",
              "      <th>1</th>\n",
              "      <td>-0.908465</td>\n",
              "      <td>-0.819625</td>\n",
              "      <td>-0.743748</td>\n",
              "      <td>-0.912592</td>\n",
              "      <td>-0.143150</td>\n",
              "      <td>-1.319266</td>\n",
              "      <td>0.190946</td>\n",
              "      <td>-1.355691</td>\n",
              "      <td>-1.503863</td>\n",
              "      <td>0.134322</td>\n",
              "      <td>...</td>\n",
              "      <td>-0.337497</td>\n",
              "      <td>-0.554806</td>\n",
              "      <td>1</td>\n",
              "      <td>0</td>\n",
              "      <td>0</td>\n",
              "      <td>1</td>\n",
              "      <td>0</td>\n",
              "      <td>0</td>\n",
              "      <td>0</td>\n",
              "      <td>0</td>\n",
              "    </tr>\n",
              "    <tr>\n",
              "      <th>2</th>\n",
              "      <td>-0.908465</td>\n",
              "      <td>-0.819625</td>\n",
              "      <td>-0.743748</td>\n",
              "      <td>-0.912592</td>\n",
              "      <td>-0.143150</td>\n",
              "      <td>-1.319266</td>\n",
              "      <td>0.190946</td>\n",
              "      <td>-1.220763</td>\n",
              "      <td>-1.503863</td>\n",
              "      <td>0.134322</td>\n",
              "      <td>...</td>\n",
              "      <td>-0.337497</td>\n",
              "      <td>-0.337525</td>\n",
              "      <td>1</td>\n",
              "      <td>0</td>\n",
              "      <td>0</td>\n",
              "      <td>1</td>\n",
              "      <td>0</td>\n",
              "      <td>0</td>\n",
              "      <td>0</td>\n",
              "      <td>0</td>\n",
              "    </tr>\n",
              "    <tr>\n",
              "      <th>3</th>\n",
              "      <td>-0.908465</td>\n",
              "      <td>-0.819625</td>\n",
              "      <td>-0.743748</td>\n",
              "      <td>-0.912592</td>\n",
              "      <td>-0.143150</td>\n",
              "      <td>-1.319266</td>\n",
              "      <td>0.190946</td>\n",
              "      <td>-1.085835</td>\n",
              "      <td>-1.503863</td>\n",
              "      <td>0.134322</td>\n",
              "      <td>...</td>\n",
              "      <td>-0.337497</td>\n",
              "      <td>-0.840177</td>\n",
              "      <td>1</td>\n",
              "      <td>0</td>\n",
              "      <td>0</td>\n",
              "      <td>1</td>\n",
              "      <td>0</td>\n",
              "      <td>0</td>\n",
              "      <td>0</td>\n",
              "      <td>0</td>\n",
              "    </tr>\n",
              "    <tr>\n",
              "      <th>4</th>\n",
              "      <td>-0.908465</td>\n",
              "      <td>-0.819625</td>\n",
              "      <td>-0.743748</td>\n",
              "      <td>-0.912592</td>\n",
              "      <td>-0.143150</td>\n",
              "      <td>-1.319266</td>\n",
              "      <td>0.190946</td>\n",
              "      <td>-1.018371</td>\n",
              "      <td>-1.503863</td>\n",
              "      <td>0.134322</td>\n",
              "      <td>...</td>\n",
              "      <td>-0.337497</td>\n",
              "      <td>-0.289575</td>\n",
              "      <td>1</td>\n",
              "      <td>0</td>\n",
              "      <td>0</td>\n",
              "      <td>1</td>\n",
              "      <td>0</td>\n",
              "      <td>0</td>\n",
              "      <td>0</td>\n",
              "      <td>0</td>\n",
              "    </tr>\n",
              "    <tr>\n",
              "      <th>...</th>\n",
              "      <td>...</td>\n",
              "      <td>...</td>\n",
              "      <td>...</td>\n",
              "      <td>...</td>\n",
              "      <td>...</td>\n",
              "      <td>...</td>\n",
              "      <td>...</td>\n",
              "      <td>...</td>\n",
              "      <td>...</td>\n",
              "      <td>...</td>\n",
              "      <td>...</td>\n",
              "      <td>...</td>\n",
              "      <td>...</td>\n",
              "      <td>...</td>\n",
              "      <td>...</td>\n",
              "      <td>...</td>\n",
              "      <td>...</td>\n",
              "      <td>...</td>\n",
              "      <td>...</td>\n",
              "      <td>...</td>\n",
              "      <td>...</td>\n",
              "    </tr>\n",
              "    <tr>\n",
              "      <th>99995</th>\n",
              "      <td>-0.815556</td>\n",
              "      <td>-0.283978</td>\n",
              "      <td>-0.261460</td>\n",
              "      <td>-0.527063</td>\n",
              "      <td>-0.127653</td>\n",
              "      <td>-0.861667</td>\n",
              "      <td>-0.626600</td>\n",
              "      <td>0.128516</td>\n",
              "      <td>-1.180610</td>\n",
              "      <td>0.169652</td>\n",
              "      <td>...</td>\n",
              "      <td>-0.329758</td>\n",
              "      <td>0.355901</td>\n",
              "      <td>1</td>\n",
              "      <td>0</td>\n",
              "      <td>0</td>\n",
              "      <td>0</td>\n",
              "      <td>0</td>\n",
              "      <td>0</td>\n",
              "      <td>0</td>\n",
              "      <td>0</td>\n",
              "    </tr>\n",
              "    <tr>\n",
              "      <th>99996</th>\n",
              "      <td>-0.815556</td>\n",
              "      <td>-0.283978</td>\n",
              "      <td>-0.261460</td>\n",
              "      <td>-0.527063</td>\n",
              "      <td>-0.127653</td>\n",
              "      <td>-0.861667</td>\n",
              "      <td>-0.626600</td>\n",
              "      <td>-0.208804</td>\n",
              "      <td>-1.180610</td>\n",
              "      <td>0.169652</td>\n",
              "      <td>...</td>\n",
              "      <td>-0.329758</td>\n",
              "      <td>0.434198</td>\n",
              "      <td>1</td>\n",
              "      <td>0</td>\n",
              "      <td>0</td>\n",
              "      <td>0</td>\n",
              "      <td>0</td>\n",
              "      <td>0</td>\n",
              "      <td>0</td>\n",
              "      <td>0</td>\n",
              "    </tr>\n",
              "    <tr>\n",
              "      <th>99997</th>\n",
              "      <td>-0.815556</td>\n",
              "      <td>-0.283978</td>\n",
              "      <td>-0.261460</td>\n",
              "      <td>-0.527063</td>\n",
              "      <td>-0.127653</td>\n",
              "      <td>-0.861667</td>\n",
              "      <td>-0.626600</td>\n",
              "      <td>0.398372</td>\n",
              "      <td>-1.180610</td>\n",
              "      <td>0.169652</td>\n",
              "      <td>...</td>\n",
              "      <td>-0.329758</td>\n",
              "      <td>0.528225</td>\n",
              "      <td>1</td>\n",
              "      <td>0</td>\n",
              "      <td>0</td>\n",
              "      <td>0</td>\n",
              "      <td>0</td>\n",
              "      <td>0</td>\n",
              "      <td>0</td>\n",
              "      <td>0</td>\n",
              "    </tr>\n",
              "    <tr>\n",
              "      <th>99998</th>\n",
              "      <td>-0.815556</td>\n",
              "      <td>-0.283978</td>\n",
              "      <td>-0.261460</td>\n",
              "      <td>-0.527063</td>\n",
              "      <td>-0.127653</td>\n",
              "      <td>-0.861667</td>\n",
              "      <td>-0.626600</td>\n",
              "      <td>-0.073876</td>\n",
              "      <td>-1.180610</td>\n",
              "      <td>0.169652</td>\n",
              "      <td>...</td>\n",
              "      <td>-0.329758</td>\n",
              "      <td>-0.393709</td>\n",
              "      <td>1</td>\n",
              "      <td>0</td>\n",
              "      <td>0</td>\n",
              "      <td>0</td>\n",
              "      <td>0</td>\n",
              "      <td>0</td>\n",
              "      <td>0</td>\n",
              "      <td>0</td>\n",
              "    </tr>\n",
              "    <tr>\n",
              "      <th>99999</th>\n",
              "      <td>-0.815556</td>\n",
              "      <td>-0.283978</td>\n",
              "      <td>-0.261460</td>\n",
              "      <td>-0.527063</td>\n",
              "      <td>-0.127653</td>\n",
              "      <td>-0.861667</td>\n",
              "      <td>-0.626600</td>\n",
              "      <td>-0.208804</td>\n",
              "      <td>-1.180610</td>\n",
              "      <td>0.169652</td>\n",
              "      <td>...</td>\n",
              "      <td>-0.329758</td>\n",
              "      <td>-0.046155</td>\n",
              "      <td>1</td>\n",
              "      <td>0</td>\n",
              "      <td>0</td>\n",
              "      <td>0</td>\n",
              "      <td>0</td>\n",
              "      <td>0</td>\n",
              "      <td>0</td>\n",
              "      <td>0</td>\n",
              "    </tr>\n",
              "  </tbody>\n",
              "</table>\n",
              "<p>100000 rows × 25 columns</p>\n",
              "</div>\n",
              "      <button class=\"colab-df-convert\" onclick=\"convertToInteractive('df-ae579d2e-d66c-4959-b75e-236c276eceb9')\"\n",
              "              title=\"Convert this dataframe to an interactive table.\"\n",
              "              style=\"display:none;\">\n",
              "        \n",
              "  <svg xmlns=\"http://www.w3.org/2000/svg\" height=\"24px\"viewBox=\"0 0 24 24\"\n",
              "       width=\"24px\">\n",
              "    <path d=\"M0 0h24v24H0V0z\" fill=\"none\"/>\n",
              "    <path d=\"M18.56 5.44l.94 2.06.94-2.06 2.06-.94-2.06-.94-.94-2.06-.94 2.06-2.06.94zm-11 1L8.5 8.5l.94-2.06 2.06-.94-2.06-.94L8.5 2.5l-.94 2.06-2.06.94zm10 10l.94 2.06.94-2.06 2.06-.94-2.06-.94-.94-2.06-.94 2.06-2.06.94z\"/><path d=\"M17.41 7.96l-1.37-1.37c-.4-.4-.92-.59-1.43-.59-.52 0-1.04.2-1.43.59L10.3 9.45l-7.72 7.72c-.78.78-.78 2.05 0 2.83L4 21.41c.39.39.9.59 1.41.59.51 0 1.02-.2 1.41-.59l7.78-7.78 2.81-2.81c.8-.78.8-2.07 0-2.86zM5.41 20L4 18.59l7.72-7.72 1.47 1.35L5.41 20z\"/>\n",
              "  </svg>\n",
              "      </button>\n",
              "      \n",
              "  <style>\n",
              "    .colab-df-container {\n",
              "      display:flex;\n",
              "      flex-wrap:wrap;\n",
              "      gap: 12px;\n",
              "    }\n",
              "\n",
              "    .colab-df-convert {\n",
              "      background-color: #E8F0FE;\n",
              "      border: none;\n",
              "      border-radius: 50%;\n",
              "      cursor: pointer;\n",
              "      display: none;\n",
              "      fill: #1967D2;\n",
              "      height: 32px;\n",
              "      padding: 0 0 0 0;\n",
              "      width: 32px;\n",
              "    }\n",
              "\n",
              "    .colab-df-convert:hover {\n",
              "      background-color: #E2EBFA;\n",
              "      box-shadow: 0px 1px 2px rgba(60, 64, 67, 0.3), 0px 1px 3px 1px rgba(60, 64, 67, 0.15);\n",
              "      fill: #174EA6;\n",
              "    }\n",
              "\n",
              "    [theme=dark] .colab-df-convert {\n",
              "      background-color: #3B4455;\n",
              "      fill: #D2E3FC;\n",
              "    }\n",
              "\n",
              "    [theme=dark] .colab-df-convert:hover {\n",
              "      background-color: #434B5C;\n",
              "      box-shadow: 0px 1px 3px 1px rgba(0, 0, 0, 0.15);\n",
              "      filter: drop-shadow(0px 1px 2px rgba(0, 0, 0, 0.3));\n",
              "      fill: #FFFFFF;\n",
              "    }\n",
              "  </style>\n",
              "\n",
              "      <script>\n",
              "        const buttonEl =\n",
              "          document.querySelector('#df-ae579d2e-d66c-4959-b75e-236c276eceb9 button.colab-df-convert');\n",
              "        buttonEl.style.display =\n",
              "          google.colab.kernel.accessAllowed ? 'block' : 'none';\n",
              "\n",
              "        async function convertToInteractive(key) {\n",
              "          const element = document.querySelector('#df-ae579d2e-d66c-4959-b75e-236c276eceb9');\n",
              "          const dataTable =\n",
              "            await google.colab.kernel.invokeFunction('convertToInteractive',\n",
              "                                                     [key], {});\n",
              "          if (!dataTable) return;\n",
              "\n",
              "          const docLinkHtml = 'Like what you see? Visit the ' +\n",
              "            '<a target=\"_blank\" href=https://colab.research.google.com/notebooks/data_table.ipynb>data table notebook</a>'\n",
              "            + ' to learn more about interactive tables.';\n",
              "          element.innerHTML = '';\n",
              "          dataTable['output_type'] = 'display_data';\n",
              "          await google.colab.output.renderOutput(dataTable, element);\n",
              "          const docLink = document.createElement('div');\n",
              "          docLink.innerHTML = docLinkHtml;\n",
              "          element.appendChild(docLink);\n",
              "        }\n",
              "      </script>\n",
              "    </div>\n",
              "  </div>\n",
              "  "
            ]
          },
          "metadata": {},
          "execution_count": 61
        }
      ],
      "source": [
        "dff=pd.concat([dfsn,dfuc],axis=1)\n",
        "dff"
      ]
    },
    {
      "cell_type": "code",
      "execution_count": 62,
      "id": "50707813",
      "metadata": {
        "id": "50707813"
      },
      "outputs": [],
      "source": [
        "from sklearn.model_selection import train_test_split\n",
        "y=y.astype(int)\n",
        "xtrain,xtest,ytrain,ytest=train_test_split(dff,y,random_state=10,test_size=0.3,stratify=y)"
      ]
    },
    {
      "cell_type": "code",
      "execution_count": 63,
      "id": "a30d40cd",
      "metadata": {
        "id": "a30d40cd",
        "outputId": "e526d1c9-7bce-4c54-b437-8b96a8e2f9db",
        "colab": {
          "base_uri": "https://localhost:8080/"
        }
      },
      "outputs": [
        {
          "output_type": "stream",
          "name": "stdout",
          "text": [
            "              precision    recall  f1-score   support\n",
            "\n",
            "           0       0.74      0.75      0.75      8699\n",
            "           1       0.76      0.76      0.76     15952\n",
            "           2       0.70      0.68      0.69      5349\n",
            "\n",
            "    accuracy                           0.74     30000\n",
            "   macro avg       0.73      0.73      0.73     30000\n",
            "weighted avg       0.74      0.74      0.74     30000\n",
            "\n"
          ]
        }
      ],
      "source": [
        "from sklearn.tree import DecisionTreeClassifier\n",
        "dt=DecisionTreeClassifier()\n",
        "dt.fit(xtrain,ytrain)\n",
        "from sklearn.metrics import accuracy_score,classification_report\n",
        "print(classification_report(ytest,dt.predict(xtest)))"
      ]
    },
    {
      "cell_type": "code",
      "execution_count": 68,
      "id": "a066ceec",
      "metadata": {
        "id": "a066ceec",
        "outputId": "03c80b07-2b8a-420d-a5b1-55bcac5cf950",
        "colab": {
          "base_uri": "https://localhost:8080/"
        }
      },
      "outputs": [
        {
          "output_type": "stream",
          "name": "stdout",
          "text": [
            "              precision    recall  f1-score   support\n",
            "\n",
            "           0       0.63      0.74      0.68     12335\n",
            "           1       0.69      0.78      0.73     23431\n",
            "           2       0.82      0.51      0.62     14234\n",
            "\n",
            "    accuracy                           0.69     50000\n",
            "   macro avg       0.71      0.68      0.68     50000\n",
            "weighted avg       0.71      0.69      0.69     50000\n",
            "\n"
          ]
        }
      ],
      "source": [
        "dfnumt=dftst.select_dtypes(include=np.number)\n",
        "dfcatt=dftst.select_dtypes(exclude=np.number)\n",
        "dfuct=dfcatt[['Credit_Mix','Payment_of_Min_Amount','Payment_Behaviour']]\n",
        "dfuct=pd.get_dummies(dfuct,drop_first=True)\n",
        "dfuct\n",
        "from sklearn.preprocessing import StandardScaler\n",
        "ss=StandardScaler()\n",
        "dfsnt=ss.fit_transform(dfnumt)\n",
        "dfsnt=pd.DataFrame(dfsnt,columns=dfnumt.columns)\n",
        "dfft=pd.concat([dfsnt,dfuct],axis=1)\n",
        "from sklearn.metrics import accuracy_score,classification_report\n",
        "print(classification_report(pd.read_csv('/content/drive/MyDrive/Project 4/Sample_Output.csv')['Predicted_values'],dt.predict(dfft)))"
      ]
    },
    {
      "cell_type": "code",
      "execution_count": 69,
      "id": "0bad8191",
      "metadata": {
        "id": "0bad8191",
        "outputId": "b47ccdea-9f8f-454a-9048-8050500bdd64",
        "colab": {
          "base_uri": "https://localhost:8080/"
        }
      },
      "outputs": [
        {
          "output_type": "stream",
          "name": "stdout",
          "text": [
            "              precision    recall  f1-score   support\n",
            "\n",
            "           0       0.76      0.79      0.78      8699\n",
            "           1       0.79      0.78      0.78     15952\n",
            "           2       0.72      0.72      0.72      5349\n",
            "\n",
            "    accuracy                           0.77     30000\n",
            "   macro avg       0.76      0.76      0.76     30000\n",
            "weighted avg       0.77      0.77      0.77     30000\n",
            "\n"
          ]
        }
      ],
      "source": [
        "from sklearn.ensemble import RandomForestClassifier\n",
        "rf=RandomForestClassifier()\n",
        "rf.fit(xtrain,ytrain)\n",
        "from sklearn.metrics import accuracy_score,classification_report\n",
        "print(classification_report(ytest,rf.predict(xtest)))"
      ]
    },
    {
      "cell_type": "code",
      "execution_count": 90,
      "id": "ccde579c",
      "metadata": {
        "id": "ccde579c"
      },
      "outputs": [],
      "source": [
        "# print(classification_report(pd.read_csv('Sample_Output.csv')['Predicted_values'],rf.predict(dfft)))"
      ]
    },
    {
      "cell_type": "code",
      "execution_count": 70,
      "id": "e04d6462",
      "metadata": {
        "id": "e04d6462",
        "outputId": "3eadc590-c8a9-4165-c2df-8988cc281d95",
        "colab": {
          "base_uri": "https://localhost:8080/"
        }
      },
      "outputs": [
        {
          "output_type": "stream",
          "name": "stdout",
          "text": [
            "              precision    recall  f1-score   support\n",
            "\n",
            "           0       0.77      0.83      0.80      8699\n",
            "           1       0.81      0.78      0.80     15952\n",
            "           2       0.73      0.72      0.73      5349\n",
            "\n",
            "    accuracy                           0.78     30000\n",
            "   macro avg       0.77      0.78      0.77     30000\n",
            "weighted avg       0.79      0.78      0.78     30000\n",
            "\n"
          ]
        }
      ],
      "source": [
        "from sklearn.neighbors import KNeighborsClassifier\n",
        "kn=KNeighborsClassifier()\n",
        "kn.fit(xtrain,ytrain)\n",
        "from sklearn.metrics import accuracy_score,classification_report\n",
        "print(classification_report(ytest,kn.predict(xtest)))"
      ]
    },
    {
      "cell_type": "code",
      "execution_count": 91,
      "id": "475c5709",
      "metadata": {
        "id": "475c5709"
      },
      "outputs": [],
      "source": [
        "# print(classification_report(pd.read_csv('Sample_Output.csv')['Predicted_values'],kn.predict(dfft)))"
      ]
    },
    {
      "cell_type": "code",
      "execution_count": 71,
      "id": "df1b1db0",
      "metadata": {
        "id": "df1b1db0",
        "outputId": "29c03620-bdd5-4fbf-b3cf-bf54a2cebde0",
        "colab": {
          "base_uri": "https://localhost:8080/"
        }
      },
      "outputs": [
        {
          "output_type": "stream",
          "name": "stdout",
          "text": [
            "              precision    recall  f1-score   support\n",
            "\n",
            "           0       0.77      0.78      0.78      8699\n",
            "           1       0.80      0.79      0.80     15952\n",
            "           2       0.72      0.74      0.73      5349\n",
            "\n",
            "    accuracy                           0.78     30000\n",
            "   macro avg       0.77      0.77      0.77     30000\n",
            "weighted avg       0.78      0.78      0.78     30000\n",
            "\n"
          ]
        }
      ],
      "source": [
        "from xgboost import XGBClassifier\n",
        "xgb=XGBClassifier()\n",
        "xgb.fit(xtrain,ytrain)\n",
        "from sklearn.metrics import accuracy_score,classification_report\n",
        "print(classification_report(ytest,xgb.predict(xtest)))"
      ]
    },
    {
      "cell_type": "code",
      "execution_count": 92,
      "id": "594f86eb",
      "metadata": {
        "id": "594f86eb"
      },
      "outputs": [],
      "source": [
        "# print(classification_report(pd.read_csv('Sample_Output.csv')[ 'Predicted_values'],xgb.predict(dfft)))"
      ]
    },
    {
      "cell_type": "code",
      "execution_count": 72,
      "id": "224c6885",
      "metadata": {
        "id": "224c6885",
        "outputId": "ad5b6fb5-2800-40b2-95e4-e178c63e3f8a",
        "colab": {
          "base_uri": "https://localhost:8080/"
        }
      },
      "outputs": [
        {
          "output_type": "stream",
          "name": "stdout",
          "text": [
            "              precision    recall  f1-score   support\n",
            "\n",
            "           0       0.75      0.65      0.70      8699\n",
            "           1       0.76      0.76      0.76     15952\n",
            "           2       0.59      0.71      0.64      5349\n",
            "\n",
            "    accuracy                           0.72     30000\n",
            "   macro avg       0.70      0.71      0.70     30000\n",
            "weighted avg       0.72      0.72      0.72     30000\n",
            "\n"
          ]
        }
      ],
      "source": [
        "from sklearn.ensemble import GradientBoostingClassifier\n",
        "gbc=GradientBoostingClassifier()\n",
        "gbc.fit(xtrain,ytrain)\n",
        "from sklearn.metrics import accuracy_score,classification_report\n",
        "print(classification_report(ytest,gbc.predict(xtest)))"
      ]
    },
    {
      "cell_type": "code",
      "execution_count": 93,
      "id": "dff1057c",
      "metadata": {
        "id": "dff1057c"
      },
      "outputs": [],
      "source": [
        "# print(classification_report(pd.read_csv('Sample_Output.csv')['Predicted_values'],gbc.predict(dfft)))"
      ]
    },
    {
      "cell_type": "code",
      "execution_count": 73,
      "id": "dacedbc0",
      "metadata": {
        "id": "dacedbc0",
        "outputId": "03ced9f3-2257-4a96-da0d-ec5d1fce4133",
        "colab": {
          "base_uri": "https://localhost:8080/"
        }
      },
      "outputs": [
        {
          "output_type": "stream",
          "name": "stdout",
          "text": [
            "              precision    recall  f1-score   support\n",
            "\n",
            "           0       0.75      0.65      0.70      8699\n",
            "           1       0.76      0.76      0.76     15952\n",
            "           2       0.59      0.71      0.64      5349\n",
            "\n",
            "    accuracy                           0.72     30000\n",
            "   macro avg       0.70      0.71      0.70     30000\n",
            "weighted avg       0.72      0.72      0.72     30000\n",
            "\n"
          ]
        }
      ],
      "source": [
        "from sklearn.ensemble import StackingClassifier\n",
        "s=StackingClassifier([('rf',RandomForestClassifier(n_estimators=5)),('gbc',GradientBoostingClassifier(n_estimators=15))])\n",
        "s.fit(xtrain,ytrain)\n",
        "print(classification_report(ytest,gbc.predict(xtest)))"
      ]
    },
    {
      "cell_type": "code",
      "execution_count": 94,
      "id": "1e48e78f",
      "metadata": {
        "id": "1e48e78f"
      },
      "outputs": [],
      "source": [
        "# print(classification_report(pd.read_csv('Sample_Output.csv')['Predicted_values'],s.predict(dfft)))"
      ]
    },
    {
      "cell_type": "code",
      "execution_count": 74,
      "id": "c9b770be",
      "metadata": {
        "id": "c9b770be",
        "outputId": "ae1f69e5-1b4b-4e01-a687-3a278e2cf9d6",
        "colab": {
          "base_uri": "https://localhost:8080/"
        }
      },
      "outputs": [
        {
          "output_type": "stream",
          "name": "stdout",
          "text": [
            "              precision    recall  f1-score   support\n",
            "\n",
            "           0       0.75      0.65      0.70      8699\n",
            "           1       0.76      0.76      0.76     15952\n",
            "           2       0.59      0.71      0.64      5349\n",
            "\n",
            "    accuracy                           0.72     30000\n",
            "   macro avg       0.70      0.71      0.70     30000\n",
            "weighted avg       0.72      0.72      0.72     30000\n",
            "\n"
          ]
        }
      ],
      "source": [
        "from sklearn.ensemble import VotingClassifier\n",
        "v=VotingClassifier(([('rf',RandomForestClassifier()),('xgb',XGBClassifier()),('gbc',GradientBoostingClassifier())]))\n",
        "v.fit(xtrain,ytrain)\n",
        "print(classification_report(ytest,gbc.predict(xtest)))"
      ]
    },
    {
      "cell_type": "code",
      "execution_count": 95,
      "id": "f150b3e4",
      "metadata": {
        "id": "f150b3e4"
      },
      "outputs": [],
      "source": [
        "# print(classification_report(pd.read_csv('Sample_Output.csv')['Predicted_values'],v.predict(dfft)))"
      ]
    },
    {
      "cell_type": "code",
      "execution_count": 75,
      "id": "21cb6300",
      "metadata": {
        "id": "21cb6300",
        "outputId": "38ed0bd1-3585-433b-f0d9-24f06efdc115",
        "colab": {
          "base_uri": "https://localhost:8080/"
        }
      },
      "outputs": [
        {
          "output_type": "stream",
          "name": "stdout",
          "text": [
            "              precision    recall  f1-score   support\n",
            "\n",
            "           0       0.75      0.65      0.70      8699\n",
            "           1       0.76      0.76      0.76     15952\n",
            "           2       0.58      0.70      0.64      5349\n",
            "\n",
            "    accuracy                           0.72     30000\n",
            "   macro avg       0.70      0.70      0.70     30000\n",
            "weighted avg       0.72      0.72      0.72     30000\n",
            "\n"
          ]
        }
      ],
      "source": [
        "from sklearn.ensemble import BaggingClassifier\n",
        "b=BaggingClassifier(GradientBoostingClassifier(),n_estimators=3)\n",
        "b.fit(xtrain,ytrain)\n",
        "print(classification_report(ytest,b.predict(xtest)))"
      ]
    },
    {
      "cell_type": "code",
      "execution_count": 79,
      "id": "5d8093c5",
      "metadata": {
        "id": "5d8093c5"
      },
      "outputs": [],
      "source": [
        "# print(classification_report(pd.read_csv('Sample_Output.csv')['Predicted_values'],b.predict(dfft)))"
      ]
    },
    {
      "cell_type": "code",
      "execution_count": 78,
      "id": "19ca8d57",
      "metadata": {
        "id": "19ca8d57",
        "outputId": "c89a1a29-e605-4b24-90ed-798e784be0a0",
        "colab": {
          "base_uri": "https://localhost:8080/"
        }
      },
      "outputs": [
        {
          "output_type": "stream",
          "name": "stdout",
          "text": [
            "              precision    recall  f1-score   support\n",
            "\n",
            "           0       0.75      0.65      0.70      8699\n",
            "           1       0.76      0.76      0.76     15952\n",
            "           2       0.59      0.71      0.64      5349\n",
            "\n",
            "    accuracy                           0.72     30000\n",
            "   macro avg       0.70      0.71      0.70     30000\n",
            "weighted avg       0.72      0.72      0.72     30000\n",
            "\n"
          ]
        }
      ],
      "source": [
        "from sklearn.ensemble import BaggingClassifier\n",
        "b=BaggingClassifier(GradientBoostingClassifier(),n_estimators=9)\n",
        "b.fit(xtrain,ytrain)\n",
        "print(classification_report(ytest,b.predict(xtest)))\n",
        "# print(classification_report(pd.read_csv('Sample_Output.csv')['Predicted_values'],b.predict(dfft)))"
      ]
    },
    {
      "cell_type": "code",
      "execution_count": 80,
      "id": "7c69afb4",
      "metadata": {
        "id": "7c69afb4"
      },
      "outputs": [],
      "source": [
        "# so gradient boosting classifier is better with good results from all the models \n",
        "# now we need to work on hyper tuning it"
      ]
    },
    {
      "cell_type": "code",
      "execution_count": 77,
      "id": "b8c8d44d",
      "metadata": {
        "id": "b8c8d44d",
        "outputId": "8ae7bc54-0e75-41a6-f438-8c8896ecdb03",
        "colab": {
          "base_uri": "https://localhost:8080/",
          "height": 833
        }
      },
      "outputs": [
        {
          "output_type": "execute_result",
          "data": {
            "text/plain": [
              "                                                           0\n",
              "Monthly_Balance                                     0.240071\n",
              "Outstanding_Debt                                    0.156272\n",
              "Credit_Mix_Standard                                 0.114441\n",
              "Delay_from_due_date                                 0.088183\n",
              "Interest_Rate                                       0.051701\n",
              "Changed_Credit_Limit                                0.048624\n",
              "Amount_invested_monthly                             0.031064\n",
              "Total_EMI_per_month                                 0.029373\n",
              "Credit_Utilization_Ratio                            0.028754\n",
              "Num_Credit_Card                                     0.027904\n",
              "Num_of_Delayed_Payment                              0.026862\n",
              "Annual_Income                                       0.024386\n",
              "Age                                                 0.023923\n",
              "Monthly_Inhand_Salary                               0.023227\n",
              "Credit_History_Age                                  0.023153\n",
              "Num_Credit_Inquiries                                0.020948\n",
              "Num_Bank_Accounts                                   0.017125\n",
              "Num_of_Loan                                         0.009548\n",
              "Payment_Behaviour_Low_spent_Small_value_payments    0.003385\n",
              "Payment_Behaviour_Low_spent_Medium_value_payments   0.002728\n",
              "Payment_Behaviour_High_spent_Small_value_payments   0.002425\n",
              "Payment_Behaviour_High_spent_Medium_value_payments  0.002384\n",
              "Payment_Behaviour_Low_spent_Large_value_payments    0.002383\n",
              "Payment_of_Min_Amount_Yes                           0.001134\n",
              "Credit_Mix_Good                                     0.000000"
            ],
            "text/html": [
              "\n",
              "  <div id=\"df-0082b9a1-df3b-4384-98cd-0cc5ce808693\">\n",
              "    <div class=\"colab-df-container\">\n",
              "      <div>\n",
              "<style scoped>\n",
              "    .dataframe tbody tr th:only-of-type {\n",
              "        vertical-align: middle;\n",
              "    }\n",
              "\n",
              "    .dataframe tbody tr th {\n",
              "        vertical-align: top;\n",
              "    }\n",
              "\n",
              "    .dataframe thead th {\n",
              "        text-align: right;\n",
              "    }\n",
              "</style>\n",
              "<table border=\"1\" class=\"dataframe\">\n",
              "  <thead>\n",
              "    <tr style=\"text-align: right;\">\n",
              "      <th></th>\n",
              "      <th>0</th>\n",
              "    </tr>\n",
              "  </thead>\n",
              "  <tbody>\n",
              "    <tr>\n",
              "      <th>Monthly_Balance</th>\n",
              "      <td>0.240071</td>\n",
              "    </tr>\n",
              "    <tr>\n",
              "      <th>Outstanding_Debt</th>\n",
              "      <td>0.156272</td>\n",
              "    </tr>\n",
              "    <tr>\n",
              "      <th>Credit_Mix_Standard</th>\n",
              "      <td>0.114441</td>\n",
              "    </tr>\n",
              "    <tr>\n",
              "      <th>Delay_from_due_date</th>\n",
              "      <td>0.088183</td>\n",
              "    </tr>\n",
              "    <tr>\n",
              "      <th>Interest_Rate</th>\n",
              "      <td>0.051701</td>\n",
              "    </tr>\n",
              "    <tr>\n",
              "      <th>Changed_Credit_Limit</th>\n",
              "      <td>0.048624</td>\n",
              "    </tr>\n",
              "    <tr>\n",
              "      <th>Amount_invested_monthly</th>\n",
              "      <td>0.031064</td>\n",
              "    </tr>\n",
              "    <tr>\n",
              "      <th>Total_EMI_per_month</th>\n",
              "      <td>0.029373</td>\n",
              "    </tr>\n",
              "    <tr>\n",
              "      <th>Credit_Utilization_Ratio</th>\n",
              "      <td>0.028754</td>\n",
              "    </tr>\n",
              "    <tr>\n",
              "      <th>Num_Credit_Card</th>\n",
              "      <td>0.027904</td>\n",
              "    </tr>\n",
              "    <tr>\n",
              "      <th>Num_of_Delayed_Payment</th>\n",
              "      <td>0.026862</td>\n",
              "    </tr>\n",
              "    <tr>\n",
              "      <th>Annual_Income</th>\n",
              "      <td>0.024386</td>\n",
              "    </tr>\n",
              "    <tr>\n",
              "      <th>Age</th>\n",
              "      <td>0.023923</td>\n",
              "    </tr>\n",
              "    <tr>\n",
              "      <th>Monthly_Inhand_Salary</th>\n",
              "      <td>0.023227</td>\n",
              "    </tr>\n",
              "    <tr>\n",
              "      <th>Credit_History_Age</th>\n",
              "      <td>0.023153</td>\n",
              "    </tr>\n",
              "    <tr>\n",
              "      <th>Num_Credit_Inquiries</th>\n",
              "      <td>0.020948</td>\n",
              "    </tr>\n",
              "    <tr>\n",
              "      <th>Num_Bank_Accounts</th>\n",
              "      <td>0.017125</td>\n",
              "    </tr>\n",
              "    <tr>\n",
              "      <th>Num_of_Loan</th>\n",
              "      <td>0.009548</td>\n",
              "    </tr>\n",
              "    <tr>\n",
              "      <th>Payment_Behaviour_Low_spent_Small_value_payments</th>\n",
              "      <td>0.003385</td>\n",
              "    </tr>\n",
              "    <tr>\n",
              "      <th>Payment_Behaviour_Low_spent_Medium_value_payments</th>\n",
              "      <td>0.002728</td>\n",
              "    </tr>\n",
              "    <tr>\n",
              "      <th>Payment_Behaviour_High_spent_Small_value_payments</th>\n",
              "      <td>0.002425</td>\n",
              "    </tr>\n",
              "    <tr>\n",
              "      <th>Payment_Behaviour_High_spent_Medium_value_payments</th>\n",
              "      <td>0.002384</td>\n",
              "    </tr>\n",
              "    <tr>\n",
              "      <th>Payment_Behaviour_Low_spent_Large_value_payments</th>\n",
              "      <td>0.002383</td>\n",
              "    </tr>\n",
              "    <tr>\n",
              "      <th>Payment_of_Min_Amount_Yes</th>\n",
              "      <td>0.001134</td>\n",
              "    </tr>\n",
              "    <tr>\n",
              "      <th>Credit_Mix_Good</th>\n",
              "      <td>0.000000</td>\n",
              "    </tr>\n",
              "  </tbody>\n",
              "</table>\n",
              "</div>\n",
              "      <button class=\"colab-df-convert\" onclick=\"convertToInteractive('df-0082b9a1-df3b-4384-98cd-0cc5ce808693')\"\n",
              "              title=\"Convert this dataframe to an interactive table.\"\n",
              "              style=\"display:none;\">\n",
              "        \n",
              "  <svg xmlns=\"http://www.w3.org/2000/svg\" height=\"24px\"viewBox=\"0 0 24 24\"\n",
              "       width=\"24px\">\n",
              "    <path d=\"M0 0h24v24H0V0z\" fill=\"none\"/>\n",
              "    <path d=\"M18.56 5.44l.94 2.06.94-2.06 2.06-.94-2.06-.94-.94-2.06-.94 2.06-2.06.94zm-11 1L8.5 8.5l.94-2.06 2.06-.94-2.06-.94L8.5 2.5l-.94 2.06-2.06.94zm10 10l.94 2.06.94-2.06 2.06-.94-2.06-.94-.94-2.06-.94 2.06-2.06.94z\"/><path d=\"M17.41 7.96l-1.37-1.37c-.4-.4-.92-.59-1.43-.59-.52 0-1.04.2-1.43.59L10.3 9.45l-7.72 7.72c-.78.78-.78 2.05 0 2.83L4 21.41c.39.39.9.59 1.41.59.51 0 1.02-.2 1.41-.59l7.78-7.78 2.81-2.81c.8-.78.8-2.07 0-2.86zM5.41 20L4 18.59l7.72-7.72 1.47 1.35L5.41 20z\"/>\n",
              "  </svg>\n",
              "      </button>\n",
              "      \n",
              "  <style>\n",
              "    .colab-df-container {\n",
              "      display:flex;\n",
              "      flex-wrap:wrap;\n",
              "      gap: 12px;\n",
              "    }\n",
              "\n",
              "    .colab-df-convert {\n",
              "      background-color: #E8F0FE;\n",
              "      border: none;\n",
              "      border-radius: 50%;\n",
              "      cursor: pointer;\n",
              "      display: none;\n",
              "      fill: #1967D2;\n",
              "      height: 32px;\n",
              "      padding: 0 0 0 0;\n",
              "      width: 32px;\n",
              "    }\n",
              "\n",
              "    .colab-df-convert:hover {\n",
              "      background-color: #E2EBFA;\n",
              "      box-shadow: 0px 1px 2px rgba(60, 64, 67, 0.3), 0px 1px 3px 1px rgba(60, 64, 67, 0.15);\n",
              "      fill: #174EA6;\n",
              "    }\n",
              "\n",
              "    [theme=dark] .colab-df-convert {\n",
              "      background-color: #3B4455;\n",
              "      fill: #D2E3FC;\n",
              "    }\n",
              "\n",
              "    [theme=dark] .colab-df-convert:hover {\n",
              "      background-color: #434B5C;\n",
              "      box-shadow: 0px 1px 3px 1px rgba(0, 0, 0, 0.15);\n",
              "      filter: drop-shadow(0px 1px 2px rgba(0, 0, 0, 0.3));\n",
              "      fill: #FFFFFF;\n",
              "    }\n",
              "  </style>\n",
              "\n",
              "      <script>\n",
              "        const buttonEl =\n",
              "          document.querySelector('#df-0082b9a1-df3b-4384-98cd-0cc5ce808693 button.colab-df-convert');\n",
              "        buttonEl.style.display =\n",
              "          google.colab.kernel.accessAllowed ? 'block' : 'none';\n",
              "\n",
              "        async function convertToInteractive(key) {\n",
              "          const element = document.querySelector('#df-0082b9a1-df3b-4384-98cd-0cc5ce808693');\n",
              "          const dataTable =\n",
              "            await google.colab.kernel.invokeFunction('convertToInteractive',\n",
              "                                                     [key], {});\n",
              "          if (!dataTable) return;\n",
              "\n",
              "          const docLinkHtml = 'Like what you see? Visit the ' +\n",
              "            '<a target=\"_blank\" href=https://colab.research.google.com/notebooks/data_table.ipynb>data table notebook</a>'\n",
              "            + ' to learn more about interactive tables.';\n",
              "          element.innerHTML = '';\n",
              "          dataTable['output_type'] = 'display_data';\n",
              "          await google.colab.output.renderOutput(dataTable, element);\n",
              "          const docLink = document.createElement('div');\n",
              "          docLink.innerHTML = docLinkHtml;\n",
              "          element.appendChild(docLink);\n",
              "        }\n",
              "      </script>\n",
              "    </div>\n",
              "  </div>\n",
              "  "
            ]
          },
          "metadata": {},
          "execution_count": 77
        }
      ],
      "source": [
        "s1=pd.DataFrame(dt.feature_importances_,index=xtrain.columns).sort_values(0,ascending=False).index[:10]\n",
        "pd.DataFrame(dt.feature_importances_,index=xtrain.columns).sort_values(0,ascending=False)"
      ]
    },
    {
      "cell_type": "code",
      "execution_count": 82,
      "id": "41427f3d",
      "metadata": {
        "id": "41427f3d",
        "outputId": "f2747e4f-d60c-481b-f8c6-3e3fffdf58c7",
        "colab": {
          "base_uri": "https://localhost:8080/",
          "height": 833
        }
      },
      "outputs": [
        {
          "output_type": "execute_result",
          "data": {
            "text/plain": [
              "                                                           0\n",
              "Monthly_Balance                                     0.199217\n",
              "Outstanding_Debt                                    0.101370\n",
              "Delay_from_due_date                                 0.086094\n",
              "Interest_Rate                                       0.066683\n",
              "Changed_Credit_Limit                                0.050290\n",
              "Credit_Mix_Good                                     0.050071\n",
              "Credit_Mix_Standard                                 0.046055\n",
              "Num_Credit_Card                                     0.035715\n",
              "Num_Credit_Inquiries                                0.035644\n",
              "Total_EMI_per_month                                 0.033292\n",
              "Credit_History_Age                                  0.033259\n",
              "Credit_Utilization_Ratio                            0.033183\n",
              "Annual_Income                                       0.032504\n",
              "Monthly_Inhand_Salary                               0.032430\n",
              "Amount_invested_monthly                             0.031234\n",
              "Num_of_Delayed_Payment                              0.029373\n",
              "Age                                                 0.028115\n",
              "Num_Bank_Accounts                                   0.025222\n",
              "Num_of_Loan                                         0.020081\n",
              "Payment_of_Min_Amount_Yes                           0.014897\n",
              "Payment_Behaviour_High_spent_Medium_value_payments  0.004174\n",
              "Payment_Behaviour_Low_spent_Small_value_payments    0.003719\n",
              "Payment_Behaviour_Low_spent_Medium_value_payments   0.002852\n",
              "Payment_Behaviour_High_spent_Small_value_payments   0.002427\n",
              "Payment_Behaviour_Low_spent_Large_value_payments    0.002099"
            ],
            "text/html": [
              "\n",
              "  <div id=\"df-244fc20a-cd79-4f31-adb5-59b0185f419b\">\n",
              "    <div class=\"colab-df-container\">\n",
              "      <div>\n",
              "<style scoped>\n",
              "    .dataframe tbody tr th:only-of-type {\n",
              "        vertical-align: middle;\n",
              "    }\n",
              "\n",
              "    .dataframe tbody tr th {\n",
              "        vertical-align: top;\n",
              "    }\n",
              "\n",
              "    .dataframe thead th {\n",
              "        text-align: right;\n",
              "    }\n",
              "</style>\n",
              "<table border=\"1\" class=\"dataframe\">\n",
              "  <thead>\n",
              "    <tr style=\"text-align: right;\">\n",
              "      <th></th>\n",
              "      <th>0</th>\n",
              "    </tr>\n",
              "  </thead>\n",
              "  <tbody>\n",
              "    <tr>\n",
              "      <th>Monthly_Balance</th>\n",
              "      <td>0.199217</td>\n",
              "    </tr>\n",
              "    <tr>\n",
              "      <th>Outstanding_Debt</th>\n",
              "      <td>0.101370</td>\n",
              "    </tr>\n",
              "    <tr>\n",
              "      <th>Delay_from_due_date</th>\n",
              "      <td>0.086094</td>\n",
              "    </tr>\n",
              "    <tr>\n",
              "      <th>Interest_Rate</th>\n",
              "      <td>0.066683</td>\n",
              "    </tr>\n",
              "    <tr>\n",
              "      <th>Changed_Credit_Limit</th>\n",
              "      <td>0.050290</td>\n",
              "    </tr>\n",
              "    <tr>\n",
              "      <th>Credit_Mix_Good</th>\n",
              "      <td>0.050071</td>\n",
              "    </tr>\n",
              "    <tr>\n",
              "      <th>Credit_Mix_Standard</th>\n",
              "      <td>0.046055</td>\n",
              "    </tr>\n",
              "    <tr>\n",
              "      <th>Num_Credit_Card</th>\n",
              "      <td>0.035715</td>\n",
              "    </tr>\n",
              "    <tr>\n",
              "      <th>Num_Credit_Inquiries</th>\n",
              "      <td>0.035644</td>\n",
              "    </tr>\n",
              "    <tr>\n",
              "      <th>Total_EMI_per_month</th>\n",
              "      <td>0.033292</td>\n",
              "    </tr>\n",
              "    <tr>\n",
              "      <th>Credit_History_Age</th>\n",
              "      <td>0.033259</td>\n",
              "    </tr>\n",
              "    <tr>\n",
              "      <th>Credit_Utilization_Ratio</th>\n",
              "      <td>0.033183</td>\n",
              "    </tr>\n",
              "    <tr>\n",
              "      <th>Annual_Income</th>\n",
              "      <td>0.032504</td>\n",
              "    </tr>\n",
              "    <tr>\n",
              "      <th>Monthly_Inhand_Salary</th>\n",
              "      <td>0.032430</td>\n",
              "    </tr>\n",
              "    <tr>\n",
              "      <th>Amount_invested_monthly</th>\n",
              "      <td>0.031234</td>\n",
              "    </tr>\n",
              "    <tr>\n",
              "      <th>Num_of_Delayed_Payment</th>\n",
              "      <td>0.029373</td>\n",
              "    </tr>\n",
              "    <tr>\n",
              "      <th>Age</th>\n",
              "      <td>0.028115</td>\n",
              "    </tr>\n",
              "    <tr>\n",
              "      <th>Num_Bank_Accounts</th>\n",
              "      <td>0.025222</td>\n",
              "    </tr>\n",
              "    <tr>\n",
              "      <th>Num_of_Loan</th>\n",
              "      <td>0.020081</td>\n",
              "    </tr>\n",
              "    <tr>\n",
              "      <th>Payment_of_Min_Amount_Yes</th>\n",
              "      <td>0.014897</td>\n",
              "    </tr>\n",
              "    <tr>\n",
              "      <th>Payment_Behaviour_High_spent_Medium_value_payments</th>\n",
              "      <td>0.004174</td>\n",
              "    </tr>\n",
              "    <tr>\n",
              "      <th>Payment_Behaviour_Low_spent_Small_value_payments</th>\n",
              "      <td>0.003719</td>\n",
              "    </tr>\n",
              "    <tr>\n",
              "      <th>Payment_Behaviour_Low_spent_Medium_value_payments</th>\n",
              "      <td>0.002852</td>\n",
              "    </tr>\n",
              "    <tr>\n",
              "      <th>Payment_Behaviour_High_spent_Small_value_payments</th>\n",
              "      <td>0.002427</td>\n",
              "    </tr>\n",
              "    <tr>\n",
              "      <th>Payment_Behaviour_Low_spent_Large_value_payments</th>\n",
              "      <td>0.002099</td>\n",
              "    </tr>\n",
              "  </tbody>\n",
              "</table>\n",
              "</div>\n",
              "      <button class=\"colab-df-convert\" onclick=\"convertToInteractive('df-244fc20a-cd79-4f31-adb5-59b0185f419b')\"\n",
              "              title=\"Convert this dataframe to an interactive table.\"\n",
              "              style=\"display:none;\">\n",
              "        \n",
              "  <svg xmlns=\"http://www.w3.org/2000/svg\" height=\"24px\"viewBox=\"0 0 24 24\"\n",
              "       width=\"24px\">\n",
              "    <path d=\"M0 0h24v24H0V0z\" fill=\"none\"/>\n",
              "    <path d=\"M18.56 5.44l.94 2.06.94-2.06 2.06-.94-2.06-.94-.94-2.06-.94 2.06-2.06.94zm-11 1L8.5 8.5l.94-2.06 2.06-.94-2.06-.94L8.5 2.5l-.94 2.06-2.06.94zm10 10l.94 2.06.94-2.06 2.06-.94-2.06-.94-.94-2.06-.94 2.06-2.06.94z\"/><path d=\"M17.41 7.96l-1.37-1.37c-.4-.4-.92-.59-1.43-.59-.52 0-1.04.2-1.43.59L10.3 9.45l-7.72 7.72c-.78.78-.78 2.05 0 2.83L4 21.41c.39.39.9.59 1.41.59.51 0 1.02-.2 1.41-.59l7.78-7.78 2.81-2.81c.8-.78.8-2.07 0-2.86zM5.41 20L4 18.59l7.72-7.72 1.47 1.35L5.41 20z\"/>\n",
              "  </svg>\n",
              "      </button>\n",
              "      \n",
              "  <style>\n",
              "    .colab-df-container {\n",
              "      display:flex;\n",
              "      flex-wrap:wrap;\n",
              "      gap: 12px;\n",
              "    }\n",
              "\n",
              "    .colab-df-convert {\n",
              "      background-color: #E8F0FE;\n",
              "      border: none;\n",
              "      border-radius: 50%;\n",
              "      cursor: pointer;\n",
              "      display: none;\n",
              "      fill: #1967D2;\n",
              "      height: 32px;\n",
              "      padding: 0 0 0 0;\n",
              "      width: 32px;\n",
              "    }\n",
              "\n",
              "    .colab-df-convert:hover {\n",
              "      background-color: #E2EBFA;\n",
              "      box-shadow: 0px 1px 2px rgba(60, 64, 67, 0.3), 0px 1px 3px 1px rgba(60, 64, 67, 0.15);\n",
              "      fill: #174EA6;\n",
              "    }\n",
              "\n",
              "    [theme=dark] .colab-df-convert {\n",
              "      background-color: #3B4455;\n",
              "      fill: #D2E3FC;\n",
              "    }\n",
              "\n",
              "    [theme=dark] .colab-df-convert:hover {\n",
              "      background-color: #434B5C;\n",
              "      box-shadow: 0px 1px 3px 1px rgba(0, 0, 0, 0.15);\n",
              "      filter: drop-shadow(0px 1px 2px rgba(0, 0, 0, 0.3));\n",
              "      fill: #FFFFFF;\n",
              "    }\n",
              "  </style>\n",
              "\n",
              "      <script>\n",
              "        const buttonEl =\n",
              "          document.querySelector('#df-244fc20a-cd79-4f31-adb5-59b0185f419b button.colab-df-convert');\n",
              "        buttonEl.style.display =\n",
              "          google.colab.kernel.accessAllowed ? 'block' : 'none';\n",
              "\n",
              "        async function convertToInteractive(key) {\n",
              "          const element = document.querySelector('#df-244fc20a-cd79-4f31-adb5-59b0185f419b');\n",
              "          const dataTable =\n",
              "            await google.colab.kernel.invokeFunction('convertToInteractive',\n",
              "                                                     [key], {});\n",
              "          if (!dataTable) return;\n",
              "\n",
              "          const docLinkHtml = 'Like what you see? Visit the ' +\n",
              "            '<a target=\"_blank\" href=https://colab.research.google.com/notebooks/data_table.ipynb>data table notebook</a>'\n",
              "            + ' to learn more about interactive tables.';\n",
              "          element.innerHTML = '';\n",
              "          dataTable['output_type'] = 'display_data';\n",
              "          await google.colab.output.renderOutput(dataTable, element);\n",
              "          const docLink = document.createElement('div');\n",
              "          docLink.innerHTML = docLinkHtml;\n",
              "          element.appendChild(docLink);\n",
              "        }\n",
              "      </script>\n",
              "    </div>\n",
              "  </div>\n",
              "  "
            ]
          },
          "metadata": {},
          "execution_count": 82
        }
      ],
      "source": [
        "s2=pd.DataFrame(rf.feature_importances_,index=xtrain.columns).sort_values(0,ascending=False).index[:10]\n",
        "pd.DataFrame(rf.feature_importances_,index=xtrain.columns).sort_values(0,ascending=False)"
      ]
    },
    {
      "cell_type": "code",
      "execution_count": 83,
      "id": "1d35c09f",
      "metadata": {
        "id": "1d35c09f",
        "outputId": "87b7e024-126c-44b2-e39c-830760ec6a44",
        "colab": {
          "base_uri": "https://localhost:8080/"
        }
      },
      "outputs": [
        {
          "output_type": "stream",
          "name": "stdout",
          "text": [
            "best features are ['Total_EMI_per_month', 'Num_Credit_Card', 'Outstanding_Debt', 'Credit_Utilization_Ratio', 'Delay_from_due_date', 'Credit_Mix_Good', 'Credit_Mix_Standard', 'Changed_Credit_Limit', 'Amount_invested_monthly', 'Num_Credit_Inquiries', 'Monthly_Balance', 'Interest_Rate']\n"
          ]
        },
        {
          "output_type": "execute_result",
          "data": {
            "text/plain": [
              "12"
            ]
          },
          "metadata": {},
          "execution_count": 83
        }
      ],
      "source": [
        "l1=list(s1)\n",
        "for i in list(s2):\n",
        "    l1.append(i)\n",
        "bfl=bestfeatures=list(set(l1))\n",
        "print('best features are',bestfeatures)\n",
        "len(bfl)"
      ]
    },
    {
      "cell_type": "code",
      "execution_count": 84,
      "id": "87402428",
      "metadata": {
        "id": "87402428",
        "outputId": "5ce4ba1a-f819-4057-8289-85b1aa778c9a",
        "colab": {
          "base_uri": "https://localhost:8080/"
        }
      },
      "outputs": [
        {
          "output_type": "stream",
          "name": "stdout",
          "text": [
            "              precision    recall  f1-score   support\n",
            "\n",
            "           0       0.77      0.80      0.78      8699\n",
            "           1       0.79      0.78      0.79     15952\n",
            "           2       0.73      0.72      0.72      5349\n",
            "\n",
            "    accuracy                           0.77     30000\n",
            "   macro avg       0.76      0.76      0.76     30000\n",
            "weighted avg       0.77      0.77      0.77     30000\n",
            "\n"
          ]
        }
      ],
      "source": [
        "rf.fit(xtrain[s1],ytrain)\n",
        "print(classification_report(ytest,rf.predict(xtest[s1])))\n",
        "# print(classification_report(pd.read_csv('Sample_Output.csv')['Predicted_values'],rf.predict(dfft[s1])))"
      ]
    },
    {
      "cell_type": "code",
      "execution_count": 85,
      "id": "72eeab3b",
      "metadata": {
        "id": "72eeab3b",
        "outputId": "5fe86088-182b-4dd9-dfc0-7dc27b7839be",
        "colab": {
          "base_uri": "https://localhost:8080/"
        }
      },
      "outputs": [
        {
          "output_type": "stream",
          "name": "stdout",
          "text": [
            "              precision    recall  f1-score   support\n",
            "\n",
            "           0       0.73      0.65      0.69      8699\n",
            "           1       0.75      0.76      0.75     15952\n",
            "           2       0.58      0.65      0.62      5349\n",
            "\n",
            "    accuracy                           0.71     30000\n",
            "   macro avg       0.69      0.69      0.69     30000\n",
            "weighted avg       0.71      0.71      0.71     30000\n",
            "\n"
          ]
        }
      ],
      "source": [
        "from sklearn.ensemble import GradientBoostingClassifier\n",
        "gbc=GradientBoostingClassifier()\n",
        "gbc.fit(xtrain[s1],ytrain)\n",
        "print(classification_report(ytest,gbc.predict(xtest[s1])))\n",
        "# print(classification_report(pd.read_csv('Sample_Output.csv')['Predicted_values'],gbc.predict(dfft[s1])))"
      ]
    },
    {
      "cell_type": "code",
      "execution_count": 86,
      "id": "58ae1bca",
      "metadata": {
        "id": "58ae1bca",
        "outputId": "63a9b3bf-8ecd-41e5-ace5-d4d69a8ec3fa",
        "colab": {
          "base_uri": "https://localhost:8080/"
        }
      },
      "outputs": [
        {
          "output_type": "stream",
          "name": "stdout",
          "text": [
            "              precision    recall  f1-score   support\n",
            "\n",
            "           0       0.72      0.66      0.69      8699\n",
            "           1       0.75      0.76      0.76     15952\n",
            "           2       0.58      0.66      0.62      5349\n",
            "\n",
            "    accuracy                           0.71     30000\n",
            "   macro avg       0.69      0.69      0.69     30000\n",
            "weighted avg       0.71      0.71      0.71     30000\n",
            "\n"
          ]
        }
      ],
      "source": [
        "from sklearn.ensemble import GradientBoostingClassifier\n",
        "gbc=GradientBoostingClassifier()\n",
        "gbc.fit(xtrain[s2],ytrain)\n",
        "print(classification_report(ytest,gbc.predict(xtest[s2])))\n",
        "# print(classification_report(pd.read_csv('Sample_Output.csv')['Predicted_values'],gbc.predict(dfft[s2])))"
      ]
    },
    {
      "cell_type": "code",
      "execution_count": 87,
      "id": "66153220",
      "metadata": {
        "id": "66153220",
        "outputId": "ca9e8558-6087-4106-86e7-d916948881a1",
        "colab": {
          "base_uri": "https://localhost:8080/"
        }
      },
      "outputs": [
        {
          "output_type": "stream",
          "name": "stdout",
          "text": [
            "              precision    recall  f1-score   support\n",
            "\n",
            "           0       0.73      0.66      0.69      8699\n",
            "           1       0.75      0.76      0.76     15952\n",
            "           2       0.58      0.66      0.62      5349\n",
            "\n",
            "    accuracy                           0.71     30000\n",
            "   macro avg       0.69      0.69      0.69     30000\n",
            "weighted avg       0.72      0.71      0.71     30000\n",
            "\n"
          ]
        }
      ],
      "source": [
        "from sklearn.ensemble import GradientBoostingClassifier\n",
        "gbc=GradientBoostingClassifier()\n",
        "gbc.fit(xtrain[bfl],ytrain)\n",
        "print(classification_report(ytest,gbc.predict(xtest[bfl])))\n",
        "# print(classification_report(pd.read_csv('Sample_Output.csv')['Predicted_values'],gbc.predict(dfft[bfl])))"
      ]
    },
    {
      "cell_type": "code",
      "execution_count": 88,
      "id": "95a87fd5",
      "metadata": {
        "id": "95a87fd5",
        "outputId": "2e7a694f-d5ca-4fbc-9daa-d7aebbdb40f6",
        "colab": {
          "base_uri": "https://localhost:8080/"
        }
      },
      "outputs": [
        {
          "output_type": "execute_result",
          "data": {
            "text/plain": [
              "['Total_EMI_per_month',\n",
              " 'Num_Credit_Card',\n",
              " 'Outstanding_Debt',\n",
              " 'Credit_Utilization_Ratio',\n",
              " 'Delay_from_due_date',\n",
              " 'Credit_Mix_Good',\n",
              " 'Credit_Mix_Standard',\n",
              " 'Changed_Credit_Limit',\n",
              " 'Amount_invested_monthly',\n",
              " 'Num_Credit_Inquiries',\n",
              " 'Monthly_Balance',\n",
              " 'Interest_Rate']"
            ]
          },
          "metadata": {},
          "execution_count": 88
        }
      ],
      "source": [
        "# GRADIENT BOOSTING claSSIFIER IS THE A GOOD MODEL FOR THIS DATA AND THE BEST features are listed below\n",
        "bfl"
      ]
    },
    {
      "cell_type": "code",
      "execution_count": 89,
      "id": "9a7ff8de",
      "metadata": {
        "id": "9a7ff8de",
        "outputId": "1c0152e0-5223-4da4-eede-d43c849b18d7",
        "colab": {
          "base_uri": "https://localhost:8080/",
          "height": 117
        }
      },
      "outputs": [
        {
          "output_type": "execute_result",
          "data": {
            "text/plain": [
              "GridSearchCV(cv=5, estimator=GradientBoostingClassifier(),\n",
              "             param_grid={'learning_rate': [0.1, 0.05], 'max_depth': [4, 6],\n",
              "                         'min_samples_split': [2, 4]})"
            ],
            "text/html": [
              "<style>#sk-container-id-1 {color: black;background-color: white;}#sk-container-id-1 pre{padding: 0;}#sk-container-id-1 div.sk-toggleable {background-color: white;}#sk-container-id-1 label.sk-toggleable__label {cursor: pointer;display: block;width: 100%;margin-bottom: 0;padding: 0.3em;box-sizing: border-box;text-align: center;}#sk-container-id-1 label.sk-toggleable__label-arrow:before {content: \"▸\";float: left;margin-right: 0.25em;color: #696969;}#sk-container-id-1 label.sk-toggleable__label-arrow:hover:before {color: black;}#sk-container-id-1 div.sk-estimator:hover label.sk-toggleable__label-arrow:before {color: black;}#sk-container-id-1 div.sk-toggleable__content {max-height: 0;max-width: 0;overflow: hidden;text-align: left;background-color: #f0f8ff;}#sk-container-id-1 div.sk-toggleable__content pre {margin: 0.2em;color: black;border-radius: 0.25em;background-color: #f0f8ff;}#sk-container-id-1 input.sk-toggleable__control:checked~div.sk-toggleable__content {max-height: 200px;max-width: 100%;overflow: auto;}#sk-container-id-1 input.sk-toggleable__control:checked~label.sk-toggleable__label-arrow:before {content: \"▾\";}#sk-container-id-1 div.sk-estimator input.sk-toggleable__control:checked~label.sk-toggleable__label {background-color: #d4ebff;}#sk-container-id-1 div.sk-label input.sk-toggleable__control:checked~label.sk-toggleable__label {background-color: #d4ebff;}#sk-container-id-1 input.sk-hidden--visually {border: 0;clip: rect(1px 1px 1px 1px);clip: rect(1px, 1px, 1px, 1px);height: 1px;margin: -1px;overflow: hidden;padding: 0;position: absolute;width: 1px;}#sk-container-id-1 div.sk-estimator {font-family: monospace;background-color: #f0f8ff;border: 1px dotted black;border-radius: 0.25em;box-sizing: border-box;margin-bottom: 0.5em;}#sk-container-id-1 div.sk-estimator:hover {background-color: #d4ebff;}#sk-container-id-1 div.sk-parallel-item::after {content: \"\";width: 100%;border-bottom: 1px solid gray;flex-grow: 1;}#sk-container-id-1 div.sk-label:hover label.sk-toggleable__label {background-color: #d4ebff;}#sk-container-id-1 div.sk-serial::before {content: \"\";position: absolute;border-left: 1px solid gray;box-sizing: border-box;top: 0;bottom: 0;left: 50%;z-index: 0;}#sk-container-id-1 div.sk-serial {display: flex;flex-direction: column;align-items: center;background-color: white;padding-right: 0.2em;padding-left: 0.2em;position: relative;}#sk-container-id-1 div.sk-item {position: relative;z-index: 1;}#sk-container-id-1 div.sk-parallel {display: flex;align-items: stretch;justify-content: center;background-color: white;position: relative;}#sk-container-id-1 div.sk-item::before, #sk-container-id-1 div.sk-parallel-item::before {content: \"\";position: absolute;border-left: 1px solid gray;box-sizing: border-box;top: 0;bottom: 0;left: 50%;z-index: -1;}#sk-container-id-1 div.sk-parallel-item {display: flex;flex-direction: column;z-index: 1;position: relative;background-color: white;}#sk-container-id-1 div.sk-parallel-item:first-child::after {align-self: flex-end;width: 50%;}#sk-container-id-1 div.sk-parallel-item:last-child::after {align-self: flex-start;width: 50%;}#sk-container-id-1 div.sk-parallel-item:only-child::after {width: 0;}#sk-container-id-1 div.sk-dashed-wrapped {border: 1px dashed gray;margin: 0 0.4em 0.5em 0.4em;box-sizing: border-box;padding-bottom: 0.4em;background-color: white;}#sk-container-id-1 div.sk-label label {font-family: monospace;font-weight: bold;display: inline-block;line-height: 1.2em;}#sk-container-id-1 div.sk-label-container {text-align: center;}#sk-container-id-1 div.sk-container {/* jupyter's `normalize.less` sets `[hidden] { display: none; }` but bootstrap.min.css set `[hidden] { display: none !important; }` so we also need the `!important` here to be able to override the default hidden behavior on the sphinx rendered scikit-learn.org. See: https://github.com/scikit-learn/scikit-learn/issues/21755 */display: inline-block !important;position: relative;}#sk-container-id-1 div.sk-text-repr-fallback {display: none;}</style><div id=\"sk-container-id-1\" class=\"sk-top-container\"><div class=\"sk-text-repr-fallback\"><pre>GridSearchCV(cv=5, estimator=GradientBoostingClassifier(),\n",
              "             param_grid={&#x27;learning_rate&#x27;: [0.1, 0.05], &#x27;max_depth&#x27;: [4, 6],\n",
              "                         &#x27;min_samples_split&#x27;: [2, 4]})</pre><b>In a Jupyter environment, please rerun this cell to show the HTML representation or trust the notebook. <br />On GitHub, the HTML representation is unable to render, please try loading this page with nbviewer.org.</b></div><div class=\"sk-container\" hidden><div class=\"sk-item sk-dashed-wrapped\"><div class=\"sk-label-container\"><div class=\"sk-label sk-toggleable\"><input class=\"sk-toggleable__control sk-hidden--visually\" id=\"sk-estimator-id-1\" type=\"checkbox\" ><label for=\"sk-estimator-id-1\" class=\"sk-toggleable__label sk-toggleable__label-arrow\">GridSearchCV</label><div class=\"sk-toggleable__content\"><pre>GridSearchCV(cv=5, estimator=GradientBoostingClassifier(),\n",
              "             param_grid={&#x27;learning_rate&#x27;: [0.1, 0.05], &#x27;max_depth&#x27;: [4, 6],\n",
              "                         &#x27;min_samples_split&#x27;: [2, 4]})</pre></div></div></div><div class=\"sk-parallel\"><div class=\"sk-parallel-item\"><div class=\"sk-item\"><div class=\"sk-label-container\"><div class=\"sk-label sk-toggleable\"><input class=\"sk-toggleable__control sk-hidden--visually\" id=\"sk-estimator-id-2\" type=\"checkbox\" ><label for=\"sk-estimator-id-2\" class=\"sk-toggleable__label sk-toggleable__label-arrow\">estimator: GradientBoostingClassifier</label><div class=\"sk-toggleable__content\"><pre>GradientBoostingClassifier()</pre></div></div></div><div class=\"sk-serial\"><div class=\"sk-item\"><div class=\"sk-estimator sk-toggleable\"><input class=\"sk-toggleable__control sk-hidden--visually\" id=\"sk-estimator-id-3\" type=\"checkbox\" ><label for=\"sk-estimator-id-3\" class=\"sk-toggleable__label sk-toggleable__label-arrow\">GradientBoostingClassifier</label><div class=\"sk-toggleable__content\"><pre>GradientBoostingClassifier()</pre></div></div></div></div></div></div></div></div></div></div>"
            ]
          },
          "metadata": {},
          "execution_count": 89
        }
      ],
      "source": [
        "from sklearn.model_selection import GridSearchCV\n",
        "p={'learning_rate':[0.1,0.05],'min_samples_split':[2,4],'max_depth':[4,6]}\n",
        "gd=GridSearchCV(cv=5,estimator=GradientBoostingClassifier(),param_grid=p)\n",
        "gd.fit(xtrain[bfl],ytrain)"
      ]
    },
    {
      "cell_type": "code",
      "execution_count": 97,
      "id": "f4b59ea1",
      "metadata": {
        "id": "f4b59ea1",
        "colab": {
          "base_uri": "https://localhost:8080/"
        },
        "outputId": "e7edee66-73e9-4b75-80ba-b7466d83b8bc"
      },
      "outputs": [
        {
          "output_type": "stream",
          "name": "stdout",
          "text": [
            "              precision    recall  f1-score   support\n",
            "\n",
            "           0       0.75      0.74      0.75      8699\n",
            "           1       0.79      0.77      0.78     15952\n",
            "           2       0.65      0.69      0.67      5349\n",
            "\n",
            "    accuracy                           0.75     30000\n",
            "   macro avg       0.73      0.74      0.73     30000\n",
            "weighted avg       0.75      0.75      0.75     30000\n",
            "\n",
            "              precision    recall  f1-score   support\n",
            "\n",
            "           0       0.82      0.94      0.87     12335\n",
            "           1       0.83      0.92      0.87     23431\n",
            "           2       0.97      0.66      0.79     14234\n",
            "\n",
            "    accuracy                           0.85     50000\n",
            "   macro avg       0.87      0.84      0.84     50000\n",
            "weighted avg       0.86      0.85      0.85     50000\n",
            "\n"
          ]
        }
      ],
      "source": [
        "print(classification_report(ytest,gd.predict(xtest[bfl])))\n",
        "print(classification_report(pd.read_csv('/content/drive/MyDrive/Project 4/Sample_Output.csv')['Predicted_values'],gd.predict(dfft[bfl])))"
      ]
    },
    {
      "cell_type": "code",
      "source": [
        "gd.best_params_"
      ],
      "metadata": {
        "colab": {
          "base_uri": "https://localhost:8080/"
        },
        "id": "dpP0PZ2QoDFm",
        "outputId": "811f7ae0-dd94-4b37-af27-9204fc3e7d2d"
      },
      "id": "dpP0PZ2QoDFm",
      "execution_count": 98,
      "outputs": [
        {
          "output_type": "execute_result",
          "data": {
            "text/plain": [
              "{'learning_rate': 0.1, 'max_depth': 6, 'min_samples_split': 4}"
            ]
          },
          "metadata": {},
          "execution_count": 98
        }
      ]
    },
    {
      "cell_type": "code",
      "source": [
        "gd.best_score_"
      ],
      "metadata": {
        "colab": {
          "base_uri": "https://localhost:8080/"
        },
        "id": "djAVfgTaoaJM",
        "outputId": "2f27eca8-f6d0-41e2-e74b-9573c9664516"
      },
      "id": "djAVfgTaoaJM",
      "execution_count": 99,
      "outputs": [
        {
          "output_type": "execute_result",
          "data": {
            "text/plain": [
              "0.7441000000000001"
            ]
          },
          "metadata": {},
          "execution_count": 99
        }
      ]
    },
    {
      "cell_type": "code",
      "source": [
        "from sklearn.model_selection import GridSearchCV\n",
        "p={'min_samples_split':[2,4],'max_depth':[4,6,8],}\n",
        "gd=GridSearchCV(cv=5,estimator=RandomForestClassifier(),param_grid=p)\n",
        "gd.fit(xtrain[bfl],ytrain)\n",
        "print(classification_report(ytest,gd.predict(xtest[bfl])))\n",
        "print(classification_report(pd.read_csv('/content/drive/MyDrive/Project 4/Sample_Output.csv')['Predicted_values'],gd.predict(dfft[bfl])))"
      ],
      "metadata": {
        "colab": {
          "base_uri": "https://localhost:8080/"
        },
        "id": "LYL_twbEojcU",
        "outputId": "b75a86d5-330a-42bf-8b9f-d329c4b46c37"
      },
      "id": "LYL_twbEojcU",
      "execution_count": 100,
      "outputs": [
        {
          "output_type": "stream",
          "name": "stdout",
          "text": [
            "              precision    recall  f1-score   support\n",
            "\n",
            "           0       0.73      0.66      0.70      8699\n",
            "           1       0.78      0.72      0.75     15952\n",
            "           2       0.55      0.76      0.63      5349\n",
            "\n",
            "    accuracy                           0.71     30000\n",
            "   macro avg       0.69      0.71      0.70     30000\n",
            "weighted avg       0.73      0.71      0.72     30000\n",
            "\n",
            "              precision    recall  f1-score   support\n",
            "\n",
            "           0       0.90      0.95      0.92     12335\n",
            "           1       0.93      0.97      0.95     23431\n",
            "           2       0.99      0.86      0.92     14234\n",
            "\n",
            "    accuracy                           0.94     50000\n",
            "   macro avg       0.94      0.93      0.93     50000\n",
            "weighted avg       0.94      0.94      0.94     50000\n",
            "\n"
          ]
        }
      ]
    },
    {
      "cell_type": "code",
      "source": [
        "gd.best_params_"
      ],
      "metadata": {
        "colab": {
          "base_uri": "https://localhost:8080/"
        },
        "id": "38fJOYe0vrre",
        "outputId": "7b1a01e0-49be-493d-c8bd-4a01ce1d2609"
      },
      "id": "38fJOYe0vrre",
      "execution_count": 101,
      "outputs": [
        {
          "output_type": "execute_result",
          "data": {
            "text/plain": [
              "{'max_depth': 8, 'min_samples_split': 2}"
            ]
          },
          "metadata": {},
          "execution_count": 101
        }
      ]
    },
    {
      "cell_type": "code",
      "source": [
        "gd.best_score_"
      ],
      "metadata": {
        "colab": {
          "base_uri": "https://localhost:8080/"
        },
        "id": "w45twMkhwrvC",
        "outputId": "ed1ca0cf-7770-4d42-8278-97274b50d791"
      },
      "id": "w45twMkhwrvC",
      "execution_count": 102,
      "outputs": [
        {
          "output_type": "execute_result",
          "data": {
            "text/plain": [
              "0.7125285714285714"
            ]
          },
          "metadata": {},
          "execution_count": 102
        }
      ]
    },
    {
      "cell_type": "code",
      "source": [],
      "metadata": {
        "id": "3hBo0d6Twusx"
      },
      "id": "3hBo0d6Twusx",
      "execution_count": null,
      "outputs": []
    }
  ],
  "metadata": {
    "kernelspec": {
      "display_name": "Python 3 (ipykernel)",
      "language": "python",
      "name": "python3"
    },
    "language_info": {
      "codemirror_mode": {
        "name": "ipython",
        "version": 3
      },
      "file_extension": ".py",
      "mimetype": "text/x-python",
      "name": "python",
      "nbconvert_exporter": "python",
      "pygments_lexer": "ipython3",
      "version": "3.9.12"
    },
    "colab": {
      "provenance": [],
      "include_colab_link": true
    }
  },
  "nbformat": 4,
  "nbformat_minor": 5
}